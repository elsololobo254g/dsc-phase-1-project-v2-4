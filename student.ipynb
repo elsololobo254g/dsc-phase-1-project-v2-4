{
 "cells": [
  {
   "cell_type": "markdown",
   "metadata": {},
   "source": [
    "## UNDERSTANDING THE PROBLEM\n",
    "\n",
    "I have assumed the role of a Data Scientist hired by Microsoft. My task is to use the six provided datasets from the various Movie Database website found online in order to give them actionable insights on how to go about creating a new movie studio.\n",
    "\n",
    ">  This will be done by giving an insight on the popular languages and whether to focus on Domestic market or World-wide market. \n",
    "\n",
    "> What is the best time of the month to release movies and the preferred length or movie length/duration\n",
    "\n",
    "> The most popular genres."
   ]
  },
  {
   "cell_type": "markdown",
   "metadata": {},
   "source": [
    "# DATA UNDERSTANDING.\n",
    "\n",
    "\n",
    "\n",
    "To make this stage easier i will define the functions below, but first i ave to import the relevant modules."
   ]
  },
  {
   "cell_type": "markdown",
   "metadata": {},
   "source": [
    "## Movie_budgets.csv.gz"
   ]
  },
  {
   "cell_type": "code",
   "execution_count": 1,
   "metadata": {},
   "outputs": [],
   "source": [
    "#importing the relevant modules\n",
    "\n",
    "#pandas\n",
    "import pandas as pd\n",
    "\n",
    "# matlab\n",
    "import matplotlib.pyplot as plt\n",
    "\n",
    "# to ensure all data visualizations appear on the same notebook and also stored here.\n",
    "%matplotlib inline \n",
    "\n",
    "#seaborn\n",
    "import seaborn as sns\n",
    "\n",
    "#sqlite3\n",
    "import sqlite3\n",
    "\n",
    "#csv\n",
    "import csv\n",
    "\n",
    "#regex\n",
    "import re"
   ]
  },
  {
   "cell_type": "markdown",
   "metadata": {},
   "source": [
    "Below I will now define some **functions** to make Data understanding easier."
   ]
  },
  {
   "cell_type": "code",
   "execution_count": 2,
   "metadata": {},
   "outputs": [],
   "source": [
    "#let us define some functions to get relevant information from the Data Frames.\n",
    "\n",
    "#get value types of entries per column.\n",
    "\n",
    "def get_value(data,col_name):\n",
    "    \n",
    "    return data[col_name].value_counts()\n",
    "\n",
    "#get information\n",
    "\n",
    "def get_info(data):\n",
    "    info_ = data.info()\n",
    "    return info_\n",
    "\n",
    "#Identify missing values\n",
    "\n",
    "def missing_values(data):\n",
    "    miss_vals = data.isnull().sum().sort_values(ascending=False)\n",
    "    \n",
    "    #percentages\n",
    "    percentages = (((data.isnull().sum()) / len(data)).sort_values(ascending=False))*100\n",
    "    \n",
    "    #create dataframe of missing values\n",
    "    \n",
    "    missing_df = pd.DataFrame({\"Total missing values\": miss_vals, 'Percentage(%)':percentages})\n",
    "    \n",
    "    #if percentage == 0 implies no missing values\n",
    "    missing_df.drop(missing_df[missing_df['Percentage(%)']==0].index, inplace = True)\n",
    "    \n",
    "    return missing_df\n",
    "\n",
    "#get column names\n",
    "\n",
    "def get_columns(data):\n",
    "    columns = data.columns\n",
    "    return columns\n",
    "\n",
    "#defining a function for loading all columns from a table for Exploritory Data Analysis.\n",
    "\n",
    "def load_SQL(column,table):\n",
    "    \n",
    "    data =pd.read_sql(f'''\n",
    "                        SELECT {column}\n",
    "                        FROM {table}\n",
    "                        ''',conn)\n",
    "    return data\n",
    "\n",
    "    \n",
    "# defining a function to look for duplicates from the DataFrames.\n",
    "\n",
    "def get_duplicate(data):\n",
    "    duplicate = data.duplicated().value_counts()\n",
    "    return duplicate\n",
    "\n",
    "#define a function that returns the unique values in a column.\n",
    "\n",
    "def get_unique(data,column):\n",
    "    return data[column].unique()"
   ]
  },
  {
   "cell_type": "markdown",
   "metadata": {},
   "source": [
    "# Data Understanding.\n",
    "\n",
    "##  ```\"tn.movie_budgets.csv.gz\"```"
   ]
  },
  {
   "cell_type": "markdown",
   "metadata": {},
   "source": [
    "First file I shall load then explore is the ```'tn.movie_budgets.csv.gz'```."
   ]
  },
  {
   "cell_type": "code",
   "execution_count": 3,
   "metadata": {},
   "outputs": [
    {
     "data": {
      "text/html": [
       "<div>\n",
       "<style scoped>\n",
       "    .dataframe tbody tr th:only-of-type {\n",
       "        vertical-align: middle;\n",
       "    }\n",
       "\n",
       "    .dataframe tbody tr th {\n",
       "        vertical-align: top;\n",
       "    }\n",
       "\n",
       "    .dataframe thead th {\n",
       "        text-align: right;\n",
       "    }\n",
       "</style>\n",
       "<table border=\"1\" class=\"dataframe\">\n",
       "  <thead>\n",
       "    <tr style=\"text-align: right;\">\n",
       "      <th></th>\n",
       "      <th>release_date</th>\n",
       "      <th>movie</th>\n",
       "      <th>production_budget</th>\n",
       "      <th>domestic_gross</th>\n",
       "      <th>worldwide_gross</th>\n",
       "    </tr>\n",
       "    <tr>\n",
       "      <th>id</th>\n",
       "      <th></th>\n",
       "      <th></th>\n",
       "      <th></th>\n",
       "      <th></th>\n",
       "      <th></th>\n",
       "    </tr>\n",
       "  </thead>\n",
       "  <tbody>\n",
       "    <tr>\n",
       "      <th>1</th>\n",
       "      <td>Dec 18, 2009</td>\n",
       "      <td>Avatar</td>\n",
       "      <td>$425,000,000</td>\n",
       "      <td>$760,507,625</td>\n",
       "      <td>$2,776,345,279</td>\n",
       "    </tr>\n",
       "    <tr>\n",
       "      <th>2</th>\n",
       "      <td>May 20, 2011</td>\n",
       "      <td>Pirates of the Caribbean: On Stranger Tides</td>\n",
       "      <td>$410,600,000</td>\n",
       "      <td>$241,063,875</td>\n",
       "      <td>$1,045,663,875</td>\n",
       "    </tr>\n",
       "    <tr>\n",
       "      <th>3</th>\n",
       "      <td>Jun 7, 2019</td>\n",
       "      <td>Dark Phoenix</td>\n",
       "      <td>$350,000,000</td>\n",
       "      <td>$42,762,350</td>\n",
       "      <td>$149,762,350</td>\n",
       "    </tr>\n",
       "    <tr>\n",
       "      <th>4</th>\n",
       "      <td>May 1, 2015</td>\n",
       "      <td>Avengers: Age of Ultron</td>\n",
       "      <td>$330,600,000</td>\n",
       "      <td>$459,005,868</td>\n",
       "      <td>$1,403,013,963</td>\n",
       "    </tr>\n",
       "    <tr>\n",
       "      <th>5</th>\n",
       "      <td>Dec 15, 2017</td>\n",
       "      <td>Star Wars Ep. VIII: The Last Jedi</td>\n",
       "      <td>$317,000,000</td>\n",
       "      <td>$620,181,382</td>\n",
       "      <td>$1,316,721,747</td>\n",
       "    </tr>\n",
       "  </tbody>\n",
       "</table>\n",
       "</div>"
      ],
      "text/plain": [
       "    release_date                                        movie  \\\n",
       "id                                                              \n",
       "1   Dec 18, 2009                                       Avatar   \n",
       "2   May 20, 2011  Pirates of the Caribbean: On Stranger Tides   \n",
       "3    Jun 7, 2019                                 Dark Phoenix   \n",
       "4    May 1, 2015                      Avengers: Age of Ultron   \n",
       "5   Dec 15, 2017            Star Wars Ep. VIII: The Last Jedi   \n",
       "\n",
       "   production_budget domestic_gross worldwide_gross  \n",
       "id                                                   \n",
       "1       $425,000,000   $760,507,625  $2,776,345,279  \n",
       "2       $410,600,000   $241,063,875  $1,045,663,875  \n",
       "3       $350,000,000    $42,762,350    $149,762,350  \n",
       "4       $330,600,000   $459,005,868  $1,403,013,963  \n",
       "5       $317,000,000   $620,181,382  $1,316,721,747  "
      ]
     },
     "execution_count": 3,
     "metadata": {},
     "output_type": "execute_result"
    }
   ],
   "source": [
    "# using pandas to load the file into budget_df\n",
    "\n",
    "\n",
    "#compression is set to 'infer' to cater for its gz file compression type.\n",
    "\n",
    "#index_col=0 to ensure data doesnt have more than one index column.\n",
    "\n",
    "budget_df = pd.read_csv('zippedData/tn.movie_budgets.csv.gz',compression='infer',index_col=0)\n",
    "\n",
    "#.head() allows us to preview the first five rows.\n",
    "budget_df.head()"
   ]
  },
  {
   "cell_type": "code",
   "execution_count": 4,
   "metadata": {},
   "outputs": [
    {
     "name": "stdout",
     "output_type": "stream",
     "text": [
      "<class 'pandas.core.frame.DataFrame'>\n",
      "Int64Index: 5782 entries, 1 to 82\n",
      "Data columns (total 5 columns):\n",
      " #   Column             Non-Null Count  Dtype \n",
      "---  ------             --------------  ----- \n",
      " 0   release_date       5782 non-null   object\n",
      " 1   movie              5782 non-null   object\n",
      " 2   production_budget  5782 non-null   object\n",
      " 3   domestic_gross     5782 non-null   object\n",
      " 4   worldwide_gross    5782 non-null   object\n",
      "dtypes: object(5)\n",
      "memory usage: 271.0+ KB\n"
     ]
    }
   ],
   "source": [
    "# getting info for the DataFrame \"movie_budget_db\"\n",
    "\n",
    "get_info(budget_df)"
   ]
  },
  {
   "cell_type": "code",
   "execution_count": 5,
   "metadata": {},
   "outputs": [
    {
     "data": {
      "text/plain": [
       "False    5782\n",
       "dtype: int64"
      ]
     },
     "execution_count": 5,
     "metadata": {},
     "output_type": "execute_result"
    }
   ],
   "source": [
    "#checking for duplicated data in budget_df\n",
    "\n",
    "get_duplicate(budget_df)\n"
   ]
  },
  {
   "cell_type": "code",
   "execution_count": 6,
   "metadata": {},
   "outputs": [
    {
     "data": {
      "text/plain": [
       "Index(['release_date', 'movie', 'production_budget', 'domestic_gross',\n",
       "       'worldwide_gross'],\n",
       "      dtype='object')"
      ]
     },
     "execution_count": 6,
     "metadata": {},
     "output_type": "execute_result"
    }
   ],
   "source": [
    "#Visual inspection of the Column names to ensure there are no whitespaces.\n",
    "get_columns(budget_df)\n"
   ]
  },
  {
   "cell_type": "markdown",
   "metadata": {},
   "source": [
    "### Understanding of budget_df.\n",
    "\n",
    "The DataFrame has a total of **6** columns and **5782** rows.\n",
    "\n",
    "The DataFrame has **no** missing value.\n",
    "\n",
    "There are  data types in string form which will make \n",
    "it hard to sort them and use them for statistical analysis.\n",
    "The problem columns are ```'production_budget'```,```'domestic_gross'``` and ```'worldwide_gross'```.\n",
    "\n",
    "There are no duplicated data in the DataFrame as all the **5782** rows have no null data.\n",
    "\n",
    "The column names are written with good syntax and easy to understand format.\n",
    "\n",
    "I want to use the date column, so I will convert it to a datetype.\n",
    "\n"
   ]
  },
  {
   "cell_type": "markdown",
   "metadata": {},
   "source": [
    "##  ```\"rt.reviews.tsv.gz\"```"
   ]
  },
  {
   "cell_type": "code",
   "execution_count": 7,
   "metadata": {
    "scrolled": true
   },
   "outputs": [
    {
     "data": {
      "text/html": [
       "<div>\n",
       "<style scoped>\n",
       "    .dataframe tbody tr th:only-of-type {\n",
       "        vertical-align: middle;\n",
       "    }\n",
       "\n",
       "    .dataframe tbody tr th {\n",
       "        vertical-align: top;\n",
       "    }\n",
       "\n",
       "    .dataframe thead th {\n",
       "        text-align: right;\n",
       "    }\n",
       "</style>\n",
       "<table border=\"1\" class=\"dataframe\">\n",
       "  <thead>\n",
       "    <tr style=\"text-align: right;\">\n",
       "      <th></th>\n",
       "      <th>synopsis</th>\n",
       "      <th>rating</th>\n",
       "      <th>genre</th>\n",
       "      <th>director</th>\n",
       "      <th>writer</th>\n",
       "      <th>theater_date</th>\n",
       "      <th>dvd_date</th>\n",
       "      <th>currency</th>\n",
       "      <th>box_office</th>\n",
       "      <th>runtime</th>\n",
       "      <th>studio</th>\n",
       "    </tr>\n",
       "    <tr>\n",
       "      <th>id</th>\n",
       "      <th></th>\n",
       "      <th></th>\n",
       "      <th></th>\n",
       "      <th></th>\n",
       "      <th></th>\n",
       "      <th></th>\n",
       "      <th></th>\n",
       "      <th></th>\n",
       "      <th></th>\n",
       "      <th></th>\n",
       "      <th></th>\n",
       "    </tr>\n",
       "  </thead>\n",
       "  <tbody>\n",
       "    <tr>\n",
       "      <th>1</th>\n",
       "      <td>This gritty, fast-paced, and innovative police...</td>\n",
       "      <td>R</td>\n",
       "      <td>Action and Adventure|Classics|Drama</td>\n",
       "      <td>William Friedkin</td>\n",
       "      <td>Ernest Tidyman</td>\n",
       "      <td>Oct 9, 1971</td>\n",
       "      <td>Sep 25, 2001</td>\n",
       "      <td>NaN</td>\n",
       "      <td>NaN</td>\n",
       "      <td>104 minutes</td>\n",
       "      <td>NaN</td>\n",
       "    </tr>\n",
       "    <tr>\n",
       "      <th>3</th>\n",
       "      <td>New York City, not-too-distant-future: Eric Pa...</td>\n",
       "      <td>R</td>\n",
       "      <td>Drama|Science Fiction and Fantasy</td>\n",
       "      <td>David Cronenberg</td>\n",
       "      <td>David Cronenberg|Don DeLillo</td>\n",
       "      <td>Aug 17, 2012</td>\n",
       "      <td>Jan 1, 2013</td>\n",
       "      <td>$</td>\n",
       "      <td>600,000</td>\n",
       "      <td>108 minutes</td>\n",
       "      <td>Entertainment One</td>\n",
       "    </tr>\n",
       "    <tr>\n",
       "      <th>5</th>\n",
       "      <td>Illeana Douglas delivers a superb performance ...</td>\n",
       "      <td>R</td>\n",
       "      <td>Drama|Musical and Performing Arts</td>\n",
       "      <td>Allison Anders</td>\n",
       "      <td>Allison Anders</td>\n",
       "      <td>Sep 13, 1996</td>\n",
       "      <td>Apr 18, 2000</td>\n",
       "      <td>NaN</td>\n",
       "      <td>NaN</td>\n",
       "      <td>116 minutes</td>\n",
       "      <td>NaN</td>\n",
       "    </tr>\n",
       "    <tr>\n",
       "      <th>6</th>\n",
       "      <td>Michael Douglas runs afoul of a treacherous su...</td>\n",
       "      <td>R</td>\n",
       "      <td>Drama|Mystery and Suspense</td>\n",
       "      <td>Barry Levinson</td>\n",
       "      <td>Paul Attanasio|Michael Crichton</td>\n",
       "      <td>Dec 9, 1994</td>\n",
       "      <td>Aug 27, 1997</td>\n",
       "      <td>NaN</td>\n",
       "      <td>NaN</td>\n",
       "      <td>128 minutes</td>\n",
       "      <td>NaN</td>\n",
       "    </tr>\n",
       "    <tr>\n",
       "      <th>7</th>\n",
       "      <td>NaN</td>\n",
       "      <td>NR</td>\n",
       "      <td>Drama|Romance</td>\n",
       "      <td>Rodney Bennett</td>\n",
       "      <td>Giles Cooper</td>\n",
       "      <td>NaN</td>\n",
       "      <td>NaN</td>\n",
       "      <td>NaN</td>\n",
       "      <td>NaN</td>\n",
       "      <td>200 minutes</td>\n",
       "      <td>NaN</td>\n",
       "    </tr>\n",
       "  </tbody>\n",
       "</table>\n",
       "</div>"
      ],
      "text/plain": [
       "                                             synopsis rating  \\\n",
       "id                                                             \n",
       "1   This gritty, fast-paced, and innovative police...      R   \n",
       "3   New York City, not-too-distant-future: Eric Pa...      R   \n",
       "5   Illeana Douglas delivers a superb performance ...      R   \n",
       "6   Michael Douglas runs afoul of a treacherous su...      R   \n",
       "7                                                 NaN     NR   \n",
       "\n",
       "                                  genre          director  \\\n",
       "id                                                          \n",
       "1   Action and Adventure|Classics|Drama  William Friedkin   \n",
       "3     Drama|Science Fiction and Fantasy  David Cronenberg   \n",
       "5     Drama|Musical and Performing Arts    Allison Anders   \n",
       "6            Drama|Mystery and Suspense    Barry Levinson   \n",
       "7                         Drama|Romance    Rodney Bennett   \n",
       "\n",
       "                             writer  theater_date      dvd_date currency  \\\n",
       "id                                                                         \n",
       "1                    Ernest Tidyman   Oct 9, 1971  Sep 25, 2001      NaN   \n",
       "3      David Cronenberg|Don DeLillo  Aug 17, 2012   Jan 1, 2013        $   \n",
       "5                    Allison Anders  Sep 13, 1996  Apr 18, 2000      NaN   \n",
       "6   Paul Attanasio|Michael Crichton   Dec 9, 1994  Aug 27, 1997      NaN   \n",
       "7                      Giles Cooper           NaN           NaN      NaN   \n",
       "\n",
       "   box_office      runtime             studio  \n",
       "id                                             \n",
       "1         NaN  104 minutes                NaN  \n",
       "3     600,000  108 minutes  Entertainment One  \n",
       "5         NaN  116 minutes                NaN  \n",
       "6         NaN  128 minutes                NaN  \n",
       "7         NaN  200 minutes                NaN  "
      ]
     },
     "execution_count": 7,
     "metadata": {},
     "output_type": "execute_result"
    }
   ],
   "source": [
    "#Using pandas to load the data into review_df.\n",
    "\n",
    "#since its a tab separated value delimiter is set to '\\t'.\n",
    "\n",
    "#encoding is set to 'latin-1' as the defualt 'utf-8' is not working for the file type.\n",
    "\n",
    "#compression is set to 'infer' to cater for its gz file compression type.\n",
    "\n",
    "\n",
    "\n",
    "\n",
    "rt_movie_df = pd.read_csv('zippedData/rt.movie_info.tsv.gz', delimiter = '\\t', encoding = 'latin-1',\n",
    "                        compression='infer',index_col=0)\n",
    "\n",
    "#.head() allows us to preview the first five rows.\n",
    "rt_movie_df.head()"
   ]
  },
  {
   "cell_type": "code",
   "execution_count": 8,
   "metadata": {},
   "outputs": [
    {
     "name": "stdout",
     "output_type": "stream",
     "text": [
      "<class 'pandas.core.frame.DataFrame'>\n",
      "Int64Index: 1560 entries, 1 to 2000\n",
      "Data columns (total 11 columns):\n",
      " #   Column        Non-Null Count  Dtype \n",
      "---  ------        --------------  ----- \n",
      " 0   synopsis      1498 non-null   object\n",
      " 1   rating        1557 non-null   object\n",
      " 2   genre         1552 non-null   object\n",
      " 3   director      1361 non-null   object\n",
      " 4   writer        1111 non-null   object\n",
      " 5   theater_date  1201 non-null   object\n",
      " 6   dvd_date      1201 non-null   object\n",
      " 7   currency      340 non-null    object\n",
      " 8   box_office    340 non-null    object\n",
      " 9   runtime       1530 non-null   object\n",
      " 10  studio        494 non-null    object\n",
      "dtypes: object(11)\n",
      "memory usage: 146.2+ KB\n"
     ]
    }
   ],
   "source": [
    "#getting info on rt_movie_df\n",
    "get_info(rt_movie_df)"
   ]
  },
  {
   "cell_type": "code",
   "execution_count": 9,
   "metadata": {},
   "outputs": [
    {
     "data": {
      "text/plain": [
       "array(['R', 'NR', 'PG', 'PG-13', nan, 'G', 'NC17'], dtype=object)"
      ]
     },
     "execution_count": 9,
     "metadata": {},
     "output_type": "execute_result"
    }
   ],
   "source": [
    "get_unique(rt_movie_df,'rating')"
   ]
  },
  {
   "cell_type": "code",
   "execution_count": 10,
   "metadata": {},
   "outputs": [
    {
     "data": {
      "text/plain": [
       "False    1556\n",
       "True        4\n",
       "dtype: int64"
      ]
     },
     "execution_count": 10,
     "metadata": {},
     "output_type": "execute_result"
    }
   ],
   "source": [
    "#search for duplicate data\n",
    "\n",
    "get_duplicate(rt_movie_df)"
   ]
  },
  {
   "cell_type": "code",
   "execution_count": 11,
   "metadata": {},
   "outputs": [
    {
     "data": {
      "text/plain": [
       "Index(['synopsis', 'rating', 'genre', 'director', 'writer', 'theater_date',\n",
       "       'dvd_date', 'currency', 'box_office', 'runtime', 'studio'],\n",
       "      dtype='object')"
      ]
     },
     "execution_count": 11,
     "metadata": {},
     "output_type": "execute_result"
    }
   ],
   "source": [
    "#looking at the column names.\n",
    "\n",
    "get_columns(rt_movie_df)"
   ]
  },
  {
   "cell_type": "code",
   "execution_count": 12,
   "metadata": {
    "scrolled": true
   },
   "outputs": [
    {
     "data": {
      "text/html": [
       "<div>\n",
       "<style scoped>\n",
       "    .dataframe tbody tr th:only-of-type {\n",
       "        vertical-align: middle;\n",
       "    }\n",
       "\n",
       "    .dataframe tbody tr th {\n",
       "        vertical-align: top;\n",
       "    }\n",
       "\n",
       "    .dataframe thead th {\n",
       "        text-align: right;\n",
       "    }\n",
       "</style>\n",
       "<table border=\"1\" class=\"dataframe\">\n",
       "  <thead>\n",
       "    <tr style=\"text-align: right;\">\n",
       "      <th></th>\n",
       "      <th>Total missing values</th>\n",
       "      <th>Percentage(%)</th>\n",
       "    </tr>\n",
       "  </thead>\n",
       "  <tbody>\n",
       "    <tr>\n",
       "      <th>currency</th>\n",
       "      <td>1220</td>\n",
       "      <td>78.205128</td>\n",
       "    </tr>\n",
       "    <tr>\n",
       "      <th>box_office</th>\n",
       "      <td>1220</td>\n",
       "      <td>78.205128</td>\n",
       "    </tr>\n",
       "    <tr>\n",
       "      <th>studio</th>\n",
       "      <td>1066</td>\n",
       "      <td>68.333333</td>\n",
       "    </tr>\n",
       "    <tr>\n",
       "      <th>writer</th>\n",
       "      <td>449</td>\n",
       "      <td>28.782051</td>\n",
       "    </tr>\n",
       "    <tr>\n",
       "      <th>theater_date</th>\n",
       "      <td>359</td>\n",
       "      <td>23.012821</td>\n",
       "    </tr>\n",
       "    <tr>\n",
       "      <th>dvd_date</th>\n",
       "      <td>359</td>\n",
       "      <td>23.012821</td>\n",
       "    </tr>\n",
       "    <tr>\n",
       "      <th>director</th>\n",
       "      <td>199</td>\n",
       "      <td>12.756410</td>\n",
       "    </tr>\n",
       "    <tr>\n",
       "      <th>synopsis</th>\n",
       "      <td>62</td>\n",
       "      <td>3.974359</td>\n",
       "    </tr>\n",
       "    <tr>\n",
       "      <th>runtime</th>\n",
       "      <td>30</td>\n",
       "      <td>1.923077</td>\n",
       "    </tr>\n",
       "    <tr>\n",
       "      <th>genre</th>\n",
       "      <td>8</td>\n",
       "      <td>0.512821</td>\n",
       "    </tr>\n",
       "    <tr>\n",
       "      <th>rating</th>\n",
       "      <td>3</td>\n",
       "      <td>0.192308</td>\n",
       "    </tr>\n",
       "  </tbody>\n",
       "</table>\n",
       "</div>"
      ],
      "text/plain": [
       "              Total missing values  Percentage(%)\n",
       "currency                      1220      78.205128\n",
       "box_office                    1220      78.205128\n",
       "studio                        1066      68.333333\n",
       "writer                         449      28.782051\n",
       "theater_date                   359      23.012821\n",
       "dvd_date                       359      23.012821\n",
       "director                       199      12.756410\n",
       "synopsis                        62       3.974359\n",
       "runtime                         30       1.923077\n",
       "genre                            8       0.512821\n",
       "rating                           3       0.192308"
      ]
     },
     "execution_count": 12,
     "metadata": {},
     "output_type": "execute_result"
    }
   ],
   "source": [
    "#percentage of duplicated data\n",
    "\n",
    "missing_values(rt_movie_df)"
   ]
  },
  {
   "cell_type": "markdown",
   "metadata": {},
   "source": [
    "### Undestanding of rt_movie_df\n",
    "\n",
    "Review_df has 1560 row entries and 11 columns.\n",
    "\n",
    "Out of 1560 row entries it has 4 duplicates.\n",
    "\n",
    "The column names are well written without any ambiguos symbols\n",
    "or denotations, and no random whitespaces.\n",
    "\n",
    "Missing values were observed as not all columns had the expected 1560 entries.\n",
    "on further inspection the following had missing values;\n",
    "\n",
    "        currency : 78.20 %\n",
    "        box_office : 78.20%\n",
    "        studio : 68.33%\n",
    "        writer: 28.78%\n",
    "        theater_date: 23.01%\n",
    "        dvd_date : 23.01%\n",
    "        director : 12.75%\n",
    "        synopsis : 3.97%\n",
    "        runtime : 1.92%\n",
    "        genre : 0.51%\n",
    "        rating :0.19%"
   ]
  },
  {
   "cell_type": "markdown",
   "metadata": {},
   "source": [
    "## ```\"rt.reviews.tsv.gz\"```"
   ]
  },
  {
   "cell_type": "code",
   "execution_count": 13,
   "metadata": {},
   "outputs": [
    {
     "data": {
      "text/html": [
       "<div>\n",
       "<style scoped>\n",
       "    .dataframe tbody tr th:only-of-type {\n",
       "        vertical-align: middle;\n",
       "    }\n",
       "\n",
       "    .dataframe tbody tr th {\n",
       "        vertical-align: top;\n",
       "    }\n",
       "\n",
       "    .dataframe thead th {\n",
       "        text-align: right;\n",
       "    }\n",
       "</style>\n",
       "<table border=\"1\" class=\"dataframe\">\n",
       "  <thead>\n",
       "    <tr style=\"text-align: right;\">\n",
       "      <th></th>\n",
       "      <th>review</th>\n",
       "      <th>rating</th>\n",
       "      <th>fresh</th>\n",
       "      <th>critic</th>\n",
       "      <th>top_critic</th>\n",
       "      <th>publisher</th>\n",
       "      <th>date</th>\n",
       "    </tr>\n",
       "    <tr>\n",
       "      <th>id</th>\n",
       "      <th></th>\n",
       "      <th></th>\n",
       "      <th></th>\n",
       "      <th></th>\n",
       "      <th></th>\n",
       "      <th></th>\n",
       "      <th></th>\n",
       "    </tr>\n",
       "  </thead>\n",
       "  <tbody>\n",
       "    <tr>\n",
       "      <th>3</th>\n",
       "      <td>A distinctly gallows take on contemporary fina...</td>\n",
       "      <td>3/5</td>\n",
       "      <td>fresh</td>\n",
       "      <td>PJ Nabarro</td>\n",
       "      <td>0</td>\n",
       "      <td>Patrick Nabarro</td>\n",
       "      <td>November 10, 2018</td>\n",
       "    </tr>\n",
       "    <tr>\n",
       "      <th>3</th>\n",
       "      <td>It's an allegory in search of a meaning that n...</td>\n",
       "      <td>NaN</td>\n",
       "      <td>rotten</td>\n",
       "      <td>Annalee Newitz</td>\n",
       "      <td>0</td>\n",
       "      <td>io9.com</td>\n",
       "      <td>May 23, 2018</td>\n",
       "    </tr>\n",
       "    <tr>\n",
       "      <th>3</th>\n",
       "      <td>... life lived in a bubble in financial dealin...</td>\n",
       "      <td>NaN</td>\n",
       "      <td>fresh</td>\n",
       "      <td>Sean Axmaker</td>\n",
       "      <td>0</td>\n",
       "      <td>Stream on Demand</td>\n",
       "      <td>January 4, 2018</td>\n",
       "    </tr>\n",
       "    <tr>\n",
       "      <th>3</th>\n",
       "      <td>Continuing along a line introduced in last yea...</td>\n",
       "      <td>NaN</td>\n",
       "      <td>fresh</td>\n",
       "      <td>Daniel Kasman</td>\n",
       "      <td>0</td>\n",
       "      <td>MUBI</td>\n",
       "      <td>November 16, 2017</td>\n",
       "    </tr>\n",
       "    <tr>\n",
       "      <th>3</th>\n",
       "      <td>... a perverse twist on neorealism...</td>\n",
       "      <td>NaN</td>\n",
       "      <td>fresh</td>\n",
       "      <td>NaN</td>\n",
       "      <td>0</td>\n",
       "      <td>Cinema Scope</td>\n",
       "      <td>October 12, 2017</td>\n",
       "    </tr>\n",
       "  </tbody>\n",
       "</table>\n",
       "</div>"
      ],
      "text/plain": [
       "                                               review rating   fresh  \\\n",
       "id                                                                     \n",
       "3   A distinctly gallows take on contemporary fina...    3/5   fresh   \n",
       "3   It's an allegory in search of a meaning that n...    NaN  rotten   \n",
       "3   ... life lived in a bubble in financial dealin...    NaN   fresh   \n",
       "3   Continuing along a line introduced in last yea...    NaN   fresh   \n",
       "3              ... a perverse twist on neorealism...     NaN   fresh   \n",
       "\n",
       "            critic  top_critic         publisher               date  \n",
       "id                                                                   \n",
       "3       PJ Nabarro           0   Patrick Nabarro  November 10, 2018  \n",
       "3   Annalee Newitz           0           io9.com       May 23, 2018  \n",
       "3     Sean Axmaker           0  Stream on Demand    January 4, 2018  \n",
       "3    Daniel Kasman           0              MUBI  November 16, 2017  \n",
       "3              NaN           0      Cinema Scope   October 12, 2017  "
      ]
     },
     "execution_count": 13,
     "metadata": {},
     "output_type": "execute_result"
    }
   ],
   "source": [
    "#Using pandas to load the data into review_df.\n",
    "\n",
    "#since its a tab separated value delimiter is set to '\\t'.\n",
    "\n",
    "#encoding is set to 'latin-1' as the defualt 'utf-8' is not working for the file type.\n",
    "\n",
    "#compression is set to 'infer' to cater for its gz file compression type.\n",
    "\n",
    "\n",
    "\n",
    "\n",
    "review_df = pd.read_csv('zippedData/rt.reviews.tsv.gz', delimiter = '\\t', encoding = 'latin-1',\n",
    "                        compression='infer',index_col=0)\n",
    "\n",
    "#.head() allows us to preview the first five rows.\n",
    "review_df.head()"
   ]
  },
  {
   "cell_type": "code",
   "execution_count": 14,
   "metadata": {},
   "outputs": [
    {
     "name": "stdout",
     "output_type": "stream",
     "text": [
      "<class 'pandas.core.frame.DataFrame'>\n",
      "Int64Index: 54432 entries, 3 to 2000\n",
      "Data columns (total 7 columns):\n",
      " #   Column      Non-Null Count  Dtype \n",
      "---  ------      --------------  ----- \n",
      " 0   review      48869 non-null  object\n",
      " 1   rating      40915 non-null  object\n",
      " 2   fresh       54432 non-null  object\n",
      " 3   critic      51710 non-null  object\n",
      " 4   top_critic  54432 non-null  int64 \n",
      " 5   publisher   54123 non-null  object\n",
      " 6   date        54432 non-null  object\n",
      "dtypes: int64(1), object(6)\n",
      "memory usage: 3.3+ MB\n"
     ]
    }
   ],
   "source": [
    "#getting info on review_df\n",
    "get_info(review_df)"
   ]
  },
  {
   "cell_type": "code",
   "execution_count": 15,
   "metadata": {},
   "outputs": [
    {
     "data": {
      "text/plain": [
       "False    52309\n",
       "True      2123\n",
       "dtype: int64"
      ]
     },
     "execution_count": 15,
     "metadata": {},
     "output_type": "execute_result"
    }
   ],
   "source": [
    "#search for duplicate data\n",
    "get_duplicate(review_df)"
   ]
  },
  {
   "cell_type": "code",
   "execution_count": 16,
   "metadata": {},
   "outputs": [
    {
     "data": {
      "text/plain": [
       "Index(['review', 'rating', 'fresh', 'critic', 'top_critic', 'publisher',\n",
       "       'date'],\n",
       "      dtype='object')"
      ]
     },
     "execution_count": 16,
     "metadata": {},
     "output_type": "execute_result"
    }
   ],
   "source": [
    "#looking at the column names.\n",
    "\n",
    "get_columns(review_df)"
   ]
  },
  {
   "cell_type": "code",
   "execution_count": 17,
   "metadata": {},
   "outputs": [
    {
     "data": {
      "text/html": [
       "<div>\n",
       "<style scoped>\n",
       "    .dataframe tbody tr th:only-of-type {\n",
       "        vertical-align: middle;\n",
       "    }\n",
       "\n",
       "    .dataframe tbody tr th {\n",
       "        vertical-align: top;\n",
       "    }\n",
       "\n",
       "    .dataframe thead th {\n",
       "        text-align: right;\n",
       "    }\n",
       "</style>\n",
       "<table border=\"1\" class=\"dataframe\">\n",
       "  <thead>\n",
       "    <tr style=\"text-align: right;\">\n",
       "      <th></th>\n",
       "      <th>Total missing values</th>\n",
       "      <th>Percentage(%)</th>\n",
       "    </tr>\n",
       "  </thead>\n",
       "  <tbody>\n",
       "    <tr>\n",
       "      <th>rating</th>\n",
       "      <td>13517</td>\n",
       "      <td>24.832819</td>\n",
       "    </tr>\n",
       "    <tr>\n",
       "      <th>review</th>\n",
       "      <td>5563</td>\n",
       "      <td>10.220091</td>\n",
       "    </tr>\n",
       "    <tr>\n",
       "      <th>critic</th>\n",
       "      <td>2722</td>\n",
       "      <td>5.000735</td>\n",
       "    </tr>\n",
       "    <tr>\n",
       "      <th>publisher</th>\n",
       "      <td>309</td>\n",
       "      <td>0.567681</td>\n",
       "    </tr>\n",
       "  </tbody>\n",
       "</table>\n",
       "</div>"
      ],
      "text/plain": [
       "           Total missing values  Percentage(%)\n",
       "rating                    13517      24.832819\n",
       "review                     5563      10.220091\n",
       "critic                     2722       5.000735\n",
       "publisher                   309       0.567681"
      ]
     },
     "execution_count": 17,
     "metadata": {},
     "output_type": "execute_result"
    }
   ],
   "source": [
    "#percentage of duplicated data\n",
    "\n",
    "missing_values(review_df)"
   ]
  },
  {
   "cell_type": "code",
   "execution_count": 18,
   "metadata": {},
   "outputs": [
    {
     "data": {
      "text/plain": [
       "0    41336\n",
       "1    13096\n",
       "Name: top_critic, dtype: int64"
      ]
     },
     "execution_count": 18,
     "metadata": {},
     "output_type": "execute_result"
    }
   ],
   "source": [
    "#checking the unique value_count of the data under 'top_critic' column\n",
    "\n",
    "\n",
    "get_value(review_df,'top_critic')"
   ]
  },
  {
   "cell_type": "code",
   "execution_count": 19,
   "metadata": {},
   "outputs": [
    {
     "data": {
      "text/plain": [
       "array(['fresh', 'rotten'], dtype=object)"
      ]
     },
     "execution_count": 19,
     "metadata": {},
     "output_type": "execute_result"
    }
   ],
   "source": [
    "#checking the unique values of the 'fresh' column\n",
    "\n",
    "\n",
    "get_unique(review_df,'fresh')\n"
   ]
  },
  {
   "cell_type": "markdown",
   "metadata": {},
   "source": [
    "### Undestanding of review_df"
   ]
  },
  {
   "cell_type": "markdown",
   "metadata": {},
   "source": [
    "Review_df has 54432 row entries and 8 columns.\n",
    "\n",
    "Out of 54432 row entries it has 9 duplicates.\n",
    "\n",
    "The column names are well written without any ambiguos symbols<br> or denotations, and no random whitespaces.\n",
    "\n",
    "Missing values were observed as not all columns had the expected 54432 entries.<br>\n",
    "on further inspection the following had missing values; <br>\n",
    "> * `rating` : 24.83 %\n",
    "> * `review` : 10.22%\n",
    "> * `critic` :5.00%\n",
    "> * `publisher` :0.56%\n",
    "\n",
    "Looking further into the column `top_critic` and `fresh` reveals they only have two kinds of data entry.<br>\n",
    "> `fresh` only has fresh or rotten.<br> \n",
    "> `top_critic` only has 0 or 1 meaning it is a bolleon data type.\n",
    "\n",
    "further understanding through research is needed."
   ]
  },
  {
   "cell_type": "markdown",
   "metadata": {},
   "source": [
    "## ```\"bom.movie_gross.csv.gz\"```\n"
   ]
  },
  {
   "cell_type": "code",
   "execution_count": 20,
   "metadata": {},
   "outputs": [
    {
     "data": {
      "text/html": [
       "<div>\n",
       "<style scoped>\n",
       "    .dataframe tbody tr th:only-of-type {\n",
       "        vertical-align: middle;\n",
       "    }\n",
       "\n",
       "    .dataframe tbody tr th {\n",
       "        vertical-align: top;\n",
       "    }\n",
       "\n",
       "    .dataframe thead th {\n",
       "        text-align: right;\n",
       "    }\n",
       "</style>\n",
       "<table border=\"1\" class=\"dataframe\">\n",
       "  <thead>\n",
       "    <tr style=\"text-align: right;\">\n",
       "      <th></th>\n",
       "      <th>title</th>\n",
       "      <th>studio</th>\n",
       "      <th>domestic_gross</th>\n",
       "      <th>foreign_gross</th>\n",
       "      <th>year</th>\n",
       "    </tr>\n",
       "  </thead>\n",
       "  <tbody>\n",
       "    <tr>\n",
       "      <th>0</th>\n",
       "      <td>Toy Story 3</td>\n",
       "      <td>BV</td>\n",
       "      <td>415000000.0</td>\n",
       "      <td>652000000</td>\n",
       "      <td>2010</td>\n",
       "    </tr>\n",
       "    <tr>\n",
       "      <th>1</th>\n",
       "      <td>Alice in Wonderland (2010)</td>\n",
       "      <td>BV</td>\n",
       "      <td>334200000.0</td>\n",
       "      <td>691300000</td>\n",
       "      <td>2010</td>\n",
       "    </tr>\n",
       "    <tr>\n",
       "      <th>2</th>\n",
       "      <td>Harry Potter and the Deathly Hallows Part 1</td>\n",
       "      <td>WB</td>\n",
       "      <td>296000000.0</td>\n",
       "      <td>664300000</td>\n",
       "      <td>2010</td>\n",
       "    </tr>\n",
       "    <tr>\n",
       "      <th>3</th>\n",
       "      <td>Inception</td>\n",
       "      <td>WB</td>\n",
       "      <td>292600000.0</td>\n",
       "      <td>535700000</td>\n",
       "      <td>2010</td>\n",
       "    </tr>\n",
       "    <tr>\n",
       "      <th>4</th>\n",
       "      <td>Shrek Forever After</td>\n",
       "      <td>P/DW</td>\n",
       "      <td>238700000.0</td>\n",
       "      <td>513900000</td>\n",
       "      <td>2010</td>\n",
       "    </tr>\n",
       "  </tbody>\n",
       "</table>\n",
       "</div>"
      ],
      "text/plain": [
       "                                         title studio  domestic_gross  \\\n",
       "0                                  Toy Story 3     BV     415000000.0   \n",
       "1                   Alice in Wonderland (2010)     BV     334200000.0   \n",
       "2  Harry Potter and the Deathly Hallows Part 1     WB     296000000.0   \n",
       "3                                    Inception     WB     292600000.0   \n",
       "4                          Shrek Forever After   P/DW     238700000.0   \n",
       "\n",
       "  foreign_gross  year  \n",
       "0     652000000  2010  \n",
       "1     691300000  2010  \n",
       "2     664300000  2010  \n",
       "3     535700000  2010  \n",
       "4     513900000  2010  "
      ]
     },
     "execution_count": 20,
     "metadata": {},
     "output_type": "execute_result"
    }
   ],
   "source": [
    "#Using pandas to load the data into gross_df.\n",
    "\n",
    "#encoding is set to 'latin-1' as the defualt 'utf-8' is not working for the file type.\n",
    "\n",
    "#compression is set to 'infer' to cater for its gz file compression type.\n",
    "\n",
    "\n",
    "gross_df = pd.read_csv('zippedData/bom.movie_gross.csv.gz', encoding = 'latin-1',compression='infer')\n",
    "\n",
    "gross_df.head()"
   ]
  },
  {
   "cell_type": "code",
   "execution_count": 21,
   "metadata": {},
   "outputs": [
    {
     "name": "stdout",
     "output_type": "stream",
     "text": [
      "<class 'pandas.core.frame.DataFrame'>\n",
      "RangeIndex: 3387 entries, 0 to 3386\n",
      "Data columns (total 5 columns):\n",
      " #   Column          Non-Null Count  Dtype  \n",
      "---  ------          --------------  -----  \n",
      " 0   title           3387 non-null   object \n",
      " 1   studio          3382 non-null   object \n",
      " 2   domestic_gross  3359 non-null   float64\n",
      " 3   foreign_gross   2037 non-null   object \n",
      " 4   year            3387 non-null   int64  \n",
      "dtypes: float64(1), int64(1), object(3)\n",
      "memory usage: 132.4+ KB\n"
     ]
    }
   ],
   "source": [
    "get_info(gross_df)"
   ]
  },
  {
   "cell_type": "code",
   "execution_count": 22,
   "metadata": {},
   "outputs": [
    {
     "data": {
      "text/html": [
       "<div>\n",
       "<style scoped>\n",
       "    .dataframe tbody tr th:only-of-type {\n",
       "        vertical-align: middle;\n",
       "    }\n",
       "\n",
       "    .dataframe tbody tr th {\n",
       "        vertical-align: top;\n",
       "    }\n",
       "\n",
       "    .dataframe thead th {\n",
       "        text-align: right;\n",
       "    }\n",
       "</style>\n",
       "<table border=\"1\" class=\"dataframe\">\n",
       "  <thead>\n",
       "    <tr style=\"text-align: right;\">\n",
       "      <th></th>\n",
       "      <th>Total missing values</th>\n",
       "      <th>Percentage(%)</th>\n",
       "    </tr>\n",
       "  </thead>\n",
       "  <tbody>\n",
       "    <tr>\n",
       "      <th>foreign_gross</th>\n",
       "      <td>1350</td>\n",
       "      <td>39.858282</td>\n",
       "    </tr>\n",
       "    <tr>\n",
       "      <th>domestic_gross</th>\n",
       "      <td>28</td>\n",
       "      <td>0.826690</td>\n",
       "    </tr>\n",
       "    <tr>\n",
       "      <th>studio</th>\n",
       "      <td>5</td>\n",
       "      <td>0.147623</td>\n",
       "    </tr>\n",
       "  </tbody>\n",
       "</table>\n",
       "</div>"
      ],
      "text/plain": [
       "                Total missing values  Percentage(%)\n",
       "foreign_gross                   1350      39.858282\n",
       "domestic_gross                    28       0.826690\n",
       "studio                             5       0.147623"
      ]
     },
     "execution_count": 22,
     "metadata": {},
     "output_type": "execute_result"
    }
   ],
   "source": [
    "#missing values observed so checking for percentage of missing values per columns.\n",
    "\n",
    "missing_values(gross_df)"
   ]
  },
  {
   "cell_type": "code",
   "execution_count": 23,
   "metadata": {},
   "outputs": [
    {
     "data": {
      "text/plain": [
       "False    3387\n",
       "dtype: int64"
      ]
     },
     "execution_count": 23,
     "metadata": {},
     "output_type": "execute_result"
    }
   ],
   "source": [
    "#checking for duplicates.\n",
    "\n",
    "get_duplicate(gross_df)"
   ]
  },
  {
   "cell_type": "code",
   "execution_count": 24,
   "metadata": {},
   "outputs": [
    {
     "data": {
      "text/plain": [
       "Index(['title', 'studio', 'domestic_gross', 'foreign_gross', 'year'], dtype='object')"
      ]
     },
     "execution_count": 24,
     "metadata": {},
     "output_type": "execute_result"
    }
   ],
   "source": [
    "#checking column names.\n",
    "\n",
    "get_columns(gross_df)"
   ]
  },
  {
   "cell_type": "code",
   "execution_count": 25,
   "metadata": {},
   "outputs": [
    {
     "data": {
      "text/plain": [
       "array(['BV', 'WB', 'P/DW', 'Sum.', 'Par.', 'Uni.', 'Fox', 'Wein.', 'Sony',\n",
       "       'FoxS', 'SGem', 'WB (NL)', 'LGF', 'MBox', 'CL', 'W/Dim.', 'CBS',\n",
       "       'Focus', 'MGM', 'Over.', 'Mira.', 'IFC', 'CJ', 'NM', 'SPC', 'ParV',\n",
       "       'Gold.', 'JS', 'RAtt.', 'Magn.', 'Free', '3D', 'UTV', 'Rela.',\n",
       "       'Zeit.', 'Anch.', 'PDA', 'Lorb.', 'App.', 'Drft.', 'Osci.', 'IW',\n",
       "       'Rog.', nan, 'Eros', 'Relbig.', 'Viv.', 'Hann.', 'Strand', 'NGE',\n",
       "       'Scre.', 'Kino', 'Abr.', 'CZ', 'ATO', 'First', 'GK', 'FInd.',\n",
       "       'NFC', 'TFC', 'Pala.', 'Imag.', 'NAV', 'Arth.', 'CLS', 'Mont.',\n",
       "       'Olive', 'CGld', 'FOAK', 'IVP', 'Yash', 'ICir', 'FM', 'Vita.',\n",
       "       'WOW', 'Truly', 'Indic.', 'FD', 'Vari.', 'TriS', 'ORF', 'IM',\n",
       "       'Elev.', 'Cohen', 'NeoC', 'Jan.', 'MNE', 'Trib.', 'Rocket',\n",
       "       'OMNI/FSR', 'KKM', 'Argo.', 'SMod', 'Libre', 'FRun', 'WHE', 'P4',\n",
       "       'KC', 'SD', 'AM', 'MPFT', 'Icar.', 'AGF', 'A23', 'Da.', 'NYer',\n",
       "       'Rialto', 'DF', 'KL', 'ALP', 'LG/S', 'WGUSA', 'MPI', 'RTWC', 'FIP',\n",
       "       'RF', 'ArcEnt', 'PalUni', 'EpicPics', 'EOne', 'LD', 'AF', 'TFA',\n",
       "       'Myr.', 'BM&DH', 'SEG', 'PalT', 'Outs', 'OutF', 'BSM', 'WAMCR',\n",
       "       'PM&E', 'A24', 'Cdgm.', 'Distrib.', 'Imax', 'PH', 'HTR', 'ELS',\n",
       "       'PI', 'E1', 'TVC', 'FEF', 'EXCL', 'MSF', 'P/108', 'FCW', 'XL',\n",
       "       'Shout!', 'SV', 'CE', 'VPD', 'KE', 'Saban', 'CF&SR', 'Triu', 'DR',\n",
       "       'Crnth', 'Ampl.', 'CP', 'Proud', 'BGP', 'Abk.', 'DLA', 'B360',\n",
       "       'BWP', 'SEA', 'RME', 'KS', 'VE', 'LGP', 'EC', 'FUN', 'STX', 'AR',\n",
       "       'BG', 'PFR', 'BST', 'BH Tilt', 'BSC', 'U/P', 'UHE', 'CLF', 'FR',\n",
       "       'AaF', 'Orch.', 'Alc', 'PBS', 'SHO', 'Grav.', 'Gathr', 'Asp.',\n",
       "       'ADC', 'Rel.', 'SM', 'AZ', 'UEP', 'ITL', 'TA', 'MR', 'BBC',\n",
       "       'CFilms', 'Part.', 'FOR', 'TAFC', 'JBG', 'PNT', 'CineGalaxy',\n",
       "       'Fathom', 'Zee', 'Men.', 'YFG', 'Gaatri', 'Mon', 'Ghop',\n",
       "       'Cleopatra', 'Dreamwest', 'SDS', 'Linn', 'Electric', 'Jampa', 'HC',\n",
       "       'GrtIndia', 'Neon', 'ENTMP', 'Good Deed', 'ParC', 'Aviron',\n",
       "       'Annapurna', 'Amazon', 'Affirm', 'MOM', 'Orion', 'CFI', 'UTMW',\n",
       "       'Crimson', 'CAVU', 'EF', 'Arrow', 'Hiber', 'Studio 8',\n",
       "       'Global Road', 'Trafalgar', 'Greenwich', 'Spanglish', 'Blue Fox',\n",
       "       'RLJ', 'Swen', 'PackYourBag', 'Gaum.', 'Grindstone',\n",
       "       'Conglomerate', 'MUBI', 'Darin Southa', 'Super', 'CARUSEL', 'PDF',\n",
       "       'Synergetic'], dtype=object)"
      ]
     },
     "execution_count": 25,
     "metadata": {},
     "output_type": "execute_result"
    }
   ],
   "source": [
    "#studio counts\n",
    "get_unique(gross_df,'studio')"
   ]
  },
  {
   "cell_type": "markdown",
   "metadata": {},
   "source": [
    "### Understanding of gross_df\n",
    "\n",
    "Missing values are obsereved. <br> \n",
    "Specifically in;<br>\n",
    "    > * `foreign_gross`  : 39.85%<br>\n",
    "    > * `domestic_gross`  : 0.82%<br>\n",
    "    > * `studio`          : 0.14%\n",
    "    \n",
    "\n",
    "Also a column is a string data type instead of integer. `domestic_gross`\n",
    "\n",
    "No duplicates in the data.<br>\n",
    "\n",
    "Column names are well written in easy to understand manner.\n",
    "\n",
    "Studio names are in abbreviations, i should research on their denotations."
   ]
  },
  {
   "cell_type": "markdown",
   "metadata": {},
   "source": [
    "## tmdb.movies.csv.gz"
   ]
  },
  {
   "cell_type": "code",
   "execution_count": 26,
   "metadata": {},
   "outputs": [
    {
     "data": {
      "text/html": [
       "<div>\n",
       "<style scoped>\n",
       "    .dataframe tbody tr th:only-of-type {\n",
       "        vertical-align: middle;\n",
       "    }\n",
       "\n",
       "    .dataframe tbody tr th {\n",
       "        vertical-align: top;\n",
       "    }\n",
       "\n",
       "    .dataframe thead th {\n",
       "        text-align: right;\n",
       "    }\n",
       "</style>\n",
       "<table border=\"1\" class=\"dataframe\">\n",
       "  <thead>\n",
       "    <tr style=\"text-align: right;\">\n",
       "      <th></th>\n",
       "      <th>genre_ids</th>\n",
       "      <th>id</th>\n",
       "      <th>original_language</th>\n",
       "      <th>original_title</th>\n",
       "      <th>popularity</th>\n",
       "      <th>release_date</th>\n",
       "      <th>title</th>\n",
       "      <th>vote_average</th>\n",
       "      <th>vote_count</th>\n",
       "    </tr>\n",
       "  </thead>\n",
       "  <tbody>\n",
       "    <tr>\n",
       "      <th>0</th>\n",
       "      <td>[12, 14, 10751]</td>\n",
       "      <td>12444</td>\n",
       "      <td>en</td>\n",
       "      <td>Harry Potter and the Deathly Hallows: Part 1</td>\n",
       "      <td>33.533</td>\n",
       "      <td>2010-11-19</td>\n",
       "      <td>Harry Potter and the Deathly Hallows: Part 1</td>\n",
       "      <td>7.7</td>\n",
       "      <td>10788</td>\n",
       "    </tr>\n",
       "    <tr>\n",
       "      <th>1</th>\n",
       "      <td>[14, 12, 16, 10751]</td>\n",
       "      <td>10191</td>\n",
       "      <td>en</td>\n",
       "      <td>How to Train Your Dragon</td>\n",
       "      <td>28.734</td>\n",
       "      <td>2010-03-26</td>\n",
       "      <td>How to Train Your Dragon</td>\n",
       "      <td>7.7</td>\n",
       "      <td>7610</td>\n",
       "    </tr>\n",
       "    <tr>\n",
       "      <th>2</th>\n",
       "      <td>[12, 28, 878]</td>\n",
       "      <td>10138</td>\n",
       "      <td>en</td>\n",
       "      <td>Iron Man 2</td>\n",
       "      <td>28.515</td>\n",
       "      <td>2010-05-07</td>\n",
       "      <td>Iron Man 2</td>\n",
       "      <td>6.8</td>\n",
       "      <td>12368</td>\n",
       "    </tr>\n",
       "    <tr>\n",
       "      <th>3</th>\n",
       "      <td>[16, 35, 10751]</td>\n",
       "      <td>862</td>\n",
       "      <td>en</td>\n",
       "      <td>Toy Story</td>\n",
       "      <td>28.005</td>\n",
       "      <td>1995-11-22</td>\n",
       "      <td>Toy Story</td>\n",
       "      <td>7.9</td>\n",
       "      <td>10174</td>\n",
       "    </tr>\n",
       "    <tr>\n",
       "      <th>4</th>\n",
       "      <td>[28, 878, 12]</td>\n",
       "      <td>27205</td>\n",
       "      <td>en</td>\n",
       "      <td>Inception</td>\n",
       "      <td>27.920</td>\n",
       "      <td>2010-07-16</td>\n",
       "      <td>Inception</td>\n",
       "      <td>8.3</td>\n",
       "      <td>22186</td>\n",
       "    </tr>\n",
       "  </tbody>\n",
       "</table>\n",
       "</div>"
      ],
      "text/plain": [
       "             genre_ids     id original_language  \\\n",
       "0      [12, 14, 10751]  12444                en   \n",
       "1  [14, 12, 16, 10751]  10191                en   \n",
       "2        [12, 28, 878]  10138                en   \n",
       "3      [16, 35, 10751]    862                en   \n",
       "4        [28, 878, 12]  27205                en   \n",
       "\n",
       "                                 original_title  popularity release_date  \\\n",
       "0  Harry Potter and the Deathly Hallows: Part 1      33.533   2010-11-19   \n",
       "1                      How to Train Your Dragon      28.734   2010-03-26   \n",
       "2                                    Iron Man 2      28.515   2010-05-07   \n",
       "3                                     Toy Story      28.005   1995-11-22   \n",
       "4                                     Inception      27.920   2010-07-16   \n",
       "\n",
       "                                          title  vote_average  vote_count  \n",
       "0  Harry Potter and the Deathly Hallows: Part 1           7.7       10788  \n",
       "1                      How to Train Your Dragon           7.7        7610  \n",
       "2                                    Iron Man 2           6.8       12368  \n",
       "3                                     Toy Story           7.9       10174  \n",
       "4                                     Inception           8.3       22186  "
      ]
     },
     "execution_count": 26,
     "metadata": {},
     "output_type": "execute_result"
    }
   ],
   "source": [
    "#Using pandas to load the data into tmdb_df.\n",
    "\n",
    "#encoding is set to 'latin-1' as the defualt 'utf-8' is not working for the file type.\n",
    "\n",
    "#compression is set to 'infer' to cater for its gz file compression type.\n",
    "\n",
    "#index_col is set to 0 to remove extra index.\n",
    "\n",
    "\n",
    "tmdb_df = pd.read_csv('zippedData/tmdb.movies.csv.gz', encoding = 'latin-1', compression='infer',index_col=0)\n",
    "\n",
    "tmdb_df.head()"
   ]
  },
  {
   "cell_type": "code",
   "execution_count": 27,
   "metadata": {},
   "outputs": [
    {
     "name": "stdout",
     "output_type": "stream",
     "text": [
      "<class 'pandas.core.frame.DataFrame'>\n",
      "Int64Index: 26517 entries, 0 to 26516\n",
      "Data columns (total 9 columns):\n",
      " #   Column             Non-Null Count  Dtype  \n",
      "---  ------             --------------  -----  \n",
      " 0   genre_ids          26517 non-null  object \n",
      " 1   id                 26517 non-null  int64  \n",
      " 2   original_language  26517 non-null  object \n",
      " 3   original_title     26517 non-null  object \n",
      " 4   popularity         26517 non-null  float64\n",
      " 5   release_date       26517 non-null  object \n",
      " 6   title              26517 non-null  object \n",
      " 7   vote_average       26517 non-null  float64\n",
      " 8   vote_count         26517 non-null  int64  \n",
      "dtypes: float64(2), int64(2), object(5)\n",
      "memory usage: 2.0+ MB\n"
     ]
    }
   ],
   "source": [
    "get_info(tmdb_df)"
   ]
  },
  {
   "cell_type": "code",
   "execution_count": 28,
   "metadata": {},
   "outputs": [
    {
     "data": {
      "text/plain": [
       "False    25497\n",
       "True      1020\n",
       "dtype: int64"
      ]
     },
     "execution_count": 28,
     "metadata": {},
     "output_type": "execute_result"
    }
   ],
   "source": [
    "get_duplicate(tmdb_df)"
   ]
  },
  {
   "cell_type": "code",
   "execution_count": 29,
   "metadata": {},
   "outputs": [
    {
     "data": {
      "text/plain": [
       "Index(['genre_ids', 'id', 'original_language', 'original_title', 'popularity',\n",
       "       'release_date', 'title', 'vote_average', 'vote_count'],\n",
       "      dtype='object')"
      ]
     },
     "execution_count": 29,
     "metadata": {},
     "output_type": "execute_result"
    }
   ],
   "source": [
    "#inspecting column names\n",
    "\n",
    "get_columns(tmdb_df)"
   ]
  },
  {
   "cell_type": "markdown",
   "metadata": {},
   "source": [
    "### Understanding tmdb_df.\n",
    "\n",
    "No missing data.\n",
    "\n",
    "Duplicates observed, 1020 in number.\n",
    "\n",
    "index for columns should be changed from `unknown:` to avoid confusion in data interpretation.\n",
    "\n",
    "questions i need to answer if i want to understand this data set.\n",
    "\n",
    "What are genre_ids?\n",
    "> * {\"genres\":[{\"id\":28,\"name\":\"Action\"},{\"id\":12,\"name\":\"Adventure\"},{\"id\":16,\"name\":\"Animation\"},{\"id\":35,\"name\":\"Comedy\"},{\"id\":80,\"name\":\"Crime\"},{\"id\":99,\"name\":\"Documentary\"},{\"id\":18,\"name\":\"Drama\"},{\"id\":10751,\"name\":\"Family\"},{\"id\":14,\"name\":\"Fantasy\"},{\"id\":36,\"name\":\"History\"},{\"id\":27,\"name\":\"Horror\"},{\"id\":10402,\"name\":\"Music\"},{\"id\":9648,\"name\":\"Mystery\"},{\"id\":10749,\"name\":\"Romance\"},{\"id\":878,\"name\":\"Science Fiction\"},{\"id\":10770,\"name\":\"TV Movie\"},{\"id\":53,\"name\":\"Thriller\"},{\"id\":10752,\"name\":\"War\"},{\"id\":37,\"name\":\"Western\"}]}\n",
    "\n",
    "\n",
    "\n",
    "\n",
    "\n",
    "\n",
    "\n"
   ]
  },
  {
   "cell_type": "markdown",
   "metadata": {},
   "source": [
    "## im.db with SQL."
   ]
  },
  {
   "cell_type": "code",
   "execution_count": 30,
   "metadata": {
    "scrolled": false
   },
   "outputs": [],
   "source": [
    "# creating a connection to the sql database\n",
    "\n",
    "conn = sqlite3.connect('zippedData/im.db')"
   ]
  },
  {
   "cell_type": "code",
   "execution_count": 31,
   "metadata": {},
   "outputs": [
    {
     "data": {
      "text/plain": [
       "[]"
      ]
     },
     "execution_count": 31,
     "metadata": {},
     "output_type": "execute_result"
    }
   ],
   "source": [
    "#fetching all the names of the tables found in the database.\n",
    "cursor_ = conn.cursor()\n",
    "\n",
    "cursor_.execute(\"\"\"\n",
    "SELECT name\n",
    "FROM sqlite_master\n",
    "WHERE type ='table';\n",
    "\"\"\")\n",
    "\n",
    "table_names = cursor_.fetchall()\n",
    "table_names"
   ]
  },
  {
   "attachments": {
    "movie_data_erd.jpeg": {
     "image/jpeg": "[encoded data removed]"
    }
   },
   "cell_type": "markdown",
   "metadata": {},
   "source": [
    "![movie_data_erd.jpeg](attachment:movie_data_erd.jpeg)"
   ]
  },
  {
   "cell_type": "code",
   "execution_count": 32,
   "metadata": {},
   "outputs": [
    {
     "data": {
      "text/plain": [
       "<sqlite3.Connection at 0x1dae4a897b0>"
      ]
     },
     "execution_count": 32,
     "metadata": {},
     "output_type": "execute_result"
    }
   ],
   "source": [
    "conn"
   ]
  },
  {
   "cell_type": "markdown",
   "metadata": {},
   "source": [
    "#### ```movie_basics```"
   ]
  },
  {
   "cell_type": "code",
   "execution_count": 34,
   "metadata": {},
   "outputs": [
    {
     "ename": "DatabaseError",
     "evalue": "Execution failed on sql '\n                        SELECT *\n                        FROM movie_basics\n                        ': no such table: movie_basics",
     "output_type": "error",
     "traceback": [
      "\u001b[1;31m---------------------------------------------------------------------------\u001b[0m",
      "\u001b[1;31mOperationalError\u001b[0m                          Traceback (most recent call last)",
      "File \u001b[1;32m~\\anaconda3\\lib\\site-packages\\pandas\\io\\sql.py:2020\u001b[0m, in \u001b[0;36mSQLiteDatabase.execute\u001b[1;34m(self, *args, **kwargs)\u001b[0m\n\u001b[0;32m   2019\u001b[0m \u001b[38;5;28;01mtry\u001b[39;00m:\n\u001b[1;32m-> 2020\u001b[0m     cur\u001b[38;5;241m.\u001b[39mexecute(\u001b[38;5;241m*\u001b[39margs, \u001b[38;5;241m*\u001b[39m\u001b[38;5;241m*\u001b[39mkwargs)\n\u001b[0;32m   2021\u001b[0m     \u001b[38;5;28;01mreturn\u001b[39;00m cur\n",
      "\u001b[1;31mOperationalError\u001b[0m: no such table: movie_basics",
      "\nThe above exception was the direct cause of the following exception:\n",
      "\u001b[1;31mDatabaseError\u001b[0m                             Traceback (most recent call last)",
      "Input \u001b[1;32mIn [34]\u001b[0m, in \u001b[0;36m<cell line: 2>\u001b[1;34m()\u001b[0m\n\u001b[0;32m      1\u001b[0m \u001b[38;5;66;03m# taking a look at the movie_basics table from the sql.\u001b[39;00m\n\u001b[1;32m----> 2\u001b[0m movie_basics_df \u001b[38;5;241m=\u001b[39m \u001b[43mload_SQL\u001b[49m\u001b[43m(\u001b[49m\u001b[38;5;124;43m'\u001b[39;49m\u001b[38;5;124;43m*\u001b[39;49m\u001b[38;5;124;43m'\u001b[39;49m\u001b[43m,\u001b[49m\u001b[38;5;124;43m'\u001b[39;49m\u001b[38;5;124;43mmovie_basics\u001b[39;49m\u001b[38;5;124;43m'\u001b[39;49m\u001b[43m)\u001b[49m\n\u001b[0;32m      5\u001b[0m movie_basics_df\u001b[38;5;241m.\u001b[39mhead()\n",
      "Input \u001b[1;32mIn [2]\u001b[0m, in \u001b[0;36mload_SQL\u001b[1;34m(column, table)\u001b[0m\n\u001b[0;32m     40\u001b[0m \u001b[38;5;28;01mdef\u001b[39;00m \u001b[38;5;21mload_SQL\u001b[39m(column,table):\n\u001b[1;32m---> 42\u001b[0m     data \u001b[38;5;241m=\u001b[39m\u001b[43mpd\u001b[49m\u001b[38;5;241;43m.\u001b[39;49m\u001b[43mread_sql\u001b[49m\u001b[43m(\u001b[49m\u001b[38;5;124;43mf\u001b[39;49m\u001b[38;5;124;43m'''\u001b[39;49m\n\u001b[0;32m     43\u001b[0m \u001b[38;5;124;43m                        SELECT \u001b[39;49m\u001b[38;5;132;43;01m{\u001b[39;49;00m\u001b[43mcolumn\u001b[49m\u001b[38;5;132;43;01m}\u001b[39;49;00m\n\u001b[0;32m     44\u001b[0m \u001b[38;5;124;43m                        FROM \u001b[39;49m\u001b[38;5;132;43;01m{\u001b[39;49;00m\u001b[43mtable\u001b[49m\u001b[38;5;132;43;01m}\u001b[39;49;00m\n\u001b[0;32m     45\u001b[0m \u001b[38;5;124;43m                        \u001b[39;49m\u001b[38;5;124;43m'''\u001b[39;49m\u001b[43m,\u001b[49m\u001b[43mconn\u001b[49m\u001b[43m)\u001b[49m\n\u001b[0;32m     46\u001b[0m     \u001b[38;5;28;01mreturn\u001b[39;00m data\n",
      "File \u001b[1;32m~\\anaconda3\\lib\\site-packages\\pandas\\io\\sql.py:566\u001b[0m, in \u001b[0;36mread_sql\u001b[1;34m(sql, con, index_col, coerce_float, params, parse_dates, columns, chunksize)\u001b[0m\n\u001b[0;32m    563\u001b[0m pandas_sql \u001b[38;5;241m=\u001b[39m pandasSQL_builder(con)\n\u001b[0;32m    565\u001b[0m \u001b[38;5;28;01mif\u001b[39;00m \u001b[38;5;28misinstance\u001b[39m(pandas_sql, SQLiteDatabase):\n\u001b[1;32m--> 566\u001b[0m     \u001b[38;5;28;01mreturn\u001b[39;00m \u001b[43mpandas_sql\u001b[49m\u001b[38;5;241;43m.\u001b[39;49m\u001b[43mread_query\u001b[49m\u001b[43m(\u001b[49m\n\u001b[0;32m    567\u001b[0m \u001b[43m        \u001b[49m\u001b[43msql\u001b[49m\u001b[43m,\u001b[49m\n\u001b[0;32m    568\u001b[0m \u001b[43m        \u001b[49m\u001b[43mindex_col\u001b[49m\u001b[38;5;241;43m=\u001b[39;49m\u001b[43mindex_col\u001b[49m\u001b[43m,\u001b[49m\n\u001b[0;32m    569\u001b[0m \u001b[43m        \u001b[49m\u001b[43mparams\u001b[49m\u001b[38;5;241;43m=\u001b[39;49m\u001b[43mparams\u001b[49m\u001b[43m,\u001b[49m\n\u001b[0;32m    570\u001b[0m \u001b[43m        \u001b[49m\u001b[43mcoerce_float\u001b[49m\u001b[38;5;241;43m=\u001b[39;49m\u001b[43mcoerce_float\u001b[49m\u001b[43m,\u001b[49m\n\u001b[0;32m    571\u001b[0m \u001b[43m        \u001b[49m\u001b[43mparse_dates\u001b[49m\u001b[38;5;241;43m=\u001b[39;49m\u001b[43mparse_dates\u001b[49m\u001b[43m,\u001b[49m\n\u001b[0;32m    572\u001b[0m \u001b[43m        \u001b[49m\u001b[43mchunksize\u001b[49m\u001b[38;5;241;43m=\u001b[39;49m\u001b[43mchunksize\u001b[49m\u001b[43m,\u001b[49m\n\u001b[0;32m    573\u001b[0m \u001b[43m    \u001b[49m\u001b[43m)\u001b[49m\n\u001b[0;32m    575\u001b[0m \u001b[38;5;28;01mtry\u001b[39;00m:\n\u001b[0;32m    576\u001b[0m     _is_table_name \u001b[38;5;241m=\u001b[39m pandas_sql\u001b[38;5;241m.\u001b[39mhas_table(sql)\n",
      "File \u001b[1;32m~\\anaconda3\\lib\\site-packages\\pandas\\io\\sql.py:2080\u001b[0m, in \u001b[0;36mSQLiteDatabase.read_query\u001b[1;34m(self, sql, index_col, coerce_float, params, parse_dates, chunksize, dtype)\u001b[0m\n\u001b[0;32m   2068\u001b[0m \u001b[38;5;28;01mdef\u001b[39;00m \u001b[38;5;21mread_query\u001b[39m(\n\u001b[0;32m   2069\u001b[0m     \u001b[38;5;28mself\u001b[39m,\n\u001b[0;32m   2070\u001b[0m     sql,\n\u001b[1;32m   (...)\u001b[0m\n\u001b[0;32m   2076\u001b[0m     dtype: DtypeArg \u001b[38;5;241m|\u001b[39m \u001b[38;5;28;01mNone\u001b[39;00m \u001b[38;5;241m=\u001b[39m \u001b[38;5;28;01mNone\u001b[39;00m,\n\u001b[0;32m   2077\u001b[0m ):\n\u001b[0;32m   2079\u001b[0m     args \u001b[38;5;241m=\u001b[39m _convert_params(sql, params)\n\u001b[1;32m-> 2080\u001b[0m     cursor \u001b[38;5;241m=\u001b[39m \u001b[38;5;28;43mself\u001b[39;49m\u001b[38;5;241;43m.\u001b[39;49m\u001b[43mexecute\u001b[49m\u001b[43m(\u001b[49m\u001b[38;5;241;43m*\u001b[39;49m\u001b[43margs\u001b[49m\u001b[43m)\u001b[49m\n\u001b[0;32m   2081\u001b[0m     columns \u001b[38;5;241m=\u001b[39m [col_desc[\u001b[38;5;241m0\u001b[39m] \u001b[38;5;28;01mfor\u001b[39;00m col_desc \u001b[38;5;129;01min\u001b[39;00m cursor\u001b[38;5;241m.\u001b[39mdescription]\n\u001b[0;32m   2083\u001b[0m     \u001b[38;5;28;01mif\u001b[39;00m chunksize \u001b[38;5;129;01mis\u001b[39;00m \u001b[38;5;129;01mnot\u001b[39;00m \u001b[38;5;28;01mNone\u001b[39;00m:\n",
      "File \u001b[1;32m~\\anaconda3\\lib\\site-packages\\pandas\\io\\sql.py:2032\u001b[0m, in \u001b[0;36mSQLiteDatabase.execute\u001b[1;34m(self, *args, **kwargs)\u001b[0m\n\u001b[0;32m   2029\u001b[0m     \u001b[38;5;28;01mraise\u001b[39;00m ex \u001b[38;5;28;01mfrom\u001b[39;00m \u001b[38;5;21;01minner_exc\u001b[39;00m\n\u001b[0;32m   2031\u001b[0m ex \u001b[38;5;241m=\u001b[39m DatabaseError(\u001b[38;5;124mf\u001b[39m\u001b[38;5;124m\"\u001b[39m\u001b[38;5;124mExecution failed on sql \u001b[39m\u001b[38;5;124m'\u001b[39m\u001b[38;5;132;01m{\u001b[39;00margs[\u001b[38;5;241m0\u001b[39m]\u001b[38;5;132;01m}\u001b[39;00m\u001b[38;5;124m'\u001b[39m\u001b[38;5;124m: \u001b[39m\u001b[38;5;132;01m{\u001b[39;00mexc\u001b[38;5;132;01m}\u001b[39;00m\u001b[38;5;124m\"\u001b[39m)\n\u001b[1;32m-> 2032\u001b[0m \u001b[38;5;28;01mraise\u001b[39;00m ex \u001b[38;5;28;01mfrom\u001b[39;00m \u001b[38;5;21;01mexc\u001b[39;00m\n",
      "\u001b[1;31mDatabaseError\u001b[0m: Execution failed on sql '\n                        SELECT *\n                        FROM movie_basics\n                        ': no such table: movie_basics"
     ]
    }
   ],
   "source": [
    "# taking a look at the movie_basics table from the sql.\n",
    "movie_basics_df = load_SQL('*','movie_basics')\n",
    "\n",
    "\n",
    "movie_basics_df.head()"
   ]
  },
  {
   "cell_type": "code",
   "execution_count": null,
   "metadata": {
    "scrolled": true
   },
   "outputs": [],
   "source": [
    "# getting information on the movie_basics table\n",
    "\n",
    "get_info(movie_basics_df)"
   ]
  },
  {
   "cell_type": "code",
   "execution_count": null,
   "metadata": {
    "scrolled": true
   },
   "outputs": [],
   "source": [
    "# missing values detected so we are checking the percentage of the missing values.\n",
    "missing_values(movie_basics_df)"
   ]
  },
  {
   "cell_type": "code",
   "execution_count": null,
   "metadata": {},
   "outputs": [],
   "source": [
    "# checking for duplicates.\n",
    "\n",
    "get_duplicate(movie_basics_df)"
   ]
  },
  {
   "cell_type": "markdown",
   "metadata": {},
   "source": [
    "#### Understanding movie_basics\n",
    "\n",
    "No duplacated rows detected.\n",
    "\n",
    "missing values observed <br>\n",
    "> * runtime_minutes\n",
    "> * genres\n",
    "> * original_title\n",
    "\n",
    "Movie_basics has **146144** row entries and **6** columns.\n",
    "\n",
    "The column names are not ambiguous."
   ]
  },
  {
   "cell_type": "markdown",
   "metadata": {},
   "source": [
    "#### ```directors```"
   ]
  },
  {
   "cell_type": "code",
   "execution_count": null,
   "metadata": {},
   "outputs": [],
   "source": [
    "#using pandas to view the sql table.\n",
    "\n",
    "directors_df = load_SQL('*','directors')\n",
    "\n",
    "directors_df.head()"
   ]
  },
  {
   "cell_type": "code",
   "execution_count": null,
   "metadata": {},
   "outputs": [],
   "source": [
    "#getting information on the directors table.\n",
    "\n",
    "get_info(directors_df)"
   ]
  },
  {
   "cell_type": "code",
   "execution_count": null,
   "metadata": {},
   "outputs": [],
   "source": [
    "#looking for duplicates\n",
    "get_duplicate(directors_df)"
   ]
  },
  {
   "cell_type": "markdown",
   "metadata": {},
   "source": [
    "#### Understanding Directors.\n",
    "\n",
    "The table consists of 2 columns and 291174 rows.<br>\n",
    "\n",
    "The table comprises of primary and foreign keys.\n",
    "\n",
    "It has no missing values.\n",
    "\n",
    "It contains duplicate files, 127639 duplicates exactly.\n"
   ]
  },
  {
   "cell_type": "markdown",
   "metadata": {},
   "source": [
    "#### ```known_for```"
   ]
  },
  {
   "cell_type": "code",
   "execution_count": null,
   "metadata": {
    "scrolled": true
   },
   "outputs": [],
   "source": [
    "#using pandas to view the sql table 'known_for'\n",
    "\n",
    "known_for_df = load_SQL('*','known_for')\n",
    "\n",
    "known_for_df.head()"
   ]
  },
  {
   "cell_type": "code",
   "execution_count": null,
   "metadata": {},
   "outputs": [],
   "source": [
    "#getting information on the table.\n",
    "\n",
    "get_info(known_for_df)"
   ]
  },
  {
   "cell_type": "code",
   "execution_count": null,
   "metadata": {},
   "outputs": [],
   "source": [
    "#checking for duplicates\n",
    "\n",
    "get_duplicate(known_for_df)"
   ]
  },
  {
   "cell_type": "markdown",
   "metadata": {},
   "source": [
    "#### Understanding known_for.\n",
    "\n",
    "No Missing data or Duplicates observed.\n",
    "\n",
    "The table has 1638260 row entries and 2 columns"
   ]
  },
  {
   "cell_type": "markdown",
   "metadata": {},
   "source": [
    "#### ```movies_akas```"
   ]
  },
  {
   "cell_type": "code",
   "execution_count": null,
   "metadata": {},
   "outputs": [],
   "source": [
    "#using pandas to load the sql table.\n",
    "\n",
    "movie_akas_df = load_SQL('*','movie_akas')\n",
    "\n",
    "\n",
    "movie_akas_df.head()"
   ]
  },
  {
   "cell_type": "code",
   "execution_count": null,
   "metadata": {},
   "outputs": [],
   "source": [
    "#observing language Value count.\n",
    "\n",
    "movie_akas_df['language'].value_counts().sort_values(ascending=False).head(30)"
   ]
  },
  {
   "cell_type": "code",
   "execution_count": null,
   "metadata": {
    "scrolled": true
   },
   "outputs": [],
   "source": [
    "#getting info of the table.\n",
    "get_info(movie_akas_df)"
   ]
  },
  {
   "cell_type": "code",
   "execution_count": null,
   "metadata": {},
   "outputs": [],
   "source": [
    "movie_akas_df['is_original_title'].value_counts()"
   ]
  },
  {
   "cell_type": "code",
   "execution_count": null,
   "metadata": {},
   "outputs": [],
   "source": [
    "#missing data observed , looking for there percentages per column.\n",
    "\n",
    "missing_values(movie_akas_df)"
   ]
  },
  {
   "cell_type": "code",
   "execution_count": null,
   "metadata": {},
   "outputs": [],
   "source": [
    "#looking for duplicate files.\n",
    "\n",
    "get_duplicate(movie_akas_df)"
   ]
  },
  {
   "cell_type": "markdown",
   "metadata": {},
   "source": [
    "#### Understanding movies_akas.\n",
    "\n",
    "It has no duplicate values.<br>\n",
    "\n",
    "The table has 331703 row entries and 8 columns.\n",
    "\n",
    "Some columns namely;<br>\n",
    "> * attributes  : 95.55 %  \n",
    "> * language     : 87.42 %\n",
    "> * types       : 49.21 %\n",
    "> * region       : 16.06 %\n",
    "> * is_original_title : 0.000075%\n",
    "\n",
    "\n",
    "The is_original_title column is a boleon data type hence the ones and zeros."
   ]
  },
  {
   "cell_type": "markdown",
   "metadata": {},
   "source": [
    "#### ```movie_ratings```"
   ]
  },
  {
   "cell_type": "code",
   "execution_count": null,
   "metadata": {
    "scrolled": true
   },
   "outputs": [],
   "source": [
    "# Using pandas to open/load the sql table.\n",
    "\n",
    "movie_ratings_df = load_SQL('*','movie_ratings')\n",
    "\n",
    "movie_ratings_df.head()"
   ]
  },
  {
   "cell_type": "code",
   "execution_count": null,
   "metadata": {
    "scrolled": true
   },
   "outputs": [],
   "source": [
    "#getting info on the dataframe of 'movie_ratings'.\n",
    "\n",
    "get_info(movie_ratings_df)"
   ]
  },
  {
   "cell_type": "code",
   "execution_count": null,
   "metadata": {},
   "outputs": [],
   "source": [
    "# Looking for duplicates\n",
    "\n",
    "get_duplicate(movie_ratings_df)"
   ]
  },
  {
   "cell_type": "markdown",
   "metadata": {},
   "source": [
    "#### Understanding movie_ratings sql\n",
    "\n",
    "The table contains 73856 entries and 3 columns.<br>\n",
    "It does not have any missing data or duplicates."
   ]
  },
  {
   "cell_type": "markdown",
   "metadata": {},
   "source": [
    "#### ```writers```"
   ]
  },
  {
   "cell_type": "code",
   "execution_count": null,
   "metadata": {
    "scrolled": true
   },
   "outputs": [],
   "source": [
    "# Using pandas to load the data.\n",
    "\n",
    "writers_df = load_SQL('*','writers')\n",
    "\n",
    "writers_df.head()"
   ]
  },
  {
   "cell_type": "code",
   "execution_count": null,
   "metadata": {},
   "outputs": [],
   "source": [
    "#looking for information on the table.\n",
    "\n",
    "get_info(writers_df)"
   ]
  },
  {
   "cell_type": "code",
   "execution_count": null,
   "metadata": {},
   "outputs": [],
   "source": [
    "#looking for duplicates in the table.\n",
    "\n",
    "get_duplicate(writers_df)"
   ]
  },
  {
   "cell_type": "markdown",
   "metadata": {},
   "source": [
    "#### Understanding the writers_df table.\n",
    "\n",
    "No missing values observed.<br>\n",
    "\n",
    "the table contains 255873 row entries and 2 columns.\n",
    "\n",
    "The table has 77521 duplicates."
   ]
  },
  {
   "cell_type": "markdown",
   "metadata": {},
   "source": [
    "#### ```principals```"
   ]
  },
  {
   "cell_type": "code",
   "execution_count": null,
   "metadata": {
    "scrolled": true
   },
   "outputs": [],
   "source": [
    "\n",
    "#using pandas to load the data.\n",
    "\n",
    "principals_df = load_SQL('*','principals')\n",
    "\n",
    "principals_df.head(20)"
   ]
  },
  {
   "cell_type": "code",
   "execution_count": null,
   "metadata": {
    "scrolled": true
   },
   "outputs": [],
   "source": [
    "get_info(principals_df)"
   ]
  },
  {
   "cell_type": "code",
   "execution_count": null,
   "metadata": {},
   "outputs": [],
   "source": [
    "get_value(principals_df,'job')"
   ]
  },
  {
   "cell_type": "code",
   "execution_count": null,
   "metadata": {},
   "outputs": [],
   "source": [
    "#Missing values observed, checking for their percentages.\n",
    "missing_values(principals_df)"
   ]
  },
  {
   "cell_type": "code",
   "execution_count": null,
   "metadata": {},
   "outputs": [],
   "source": [
    "#checking for duplicates.\n",
    "\n",
    "get_duplicate(principals_df)"
   ]
  },
  {
   "cell_type": "markdown",
   "metadata": {},
   "source": [
    "#### Understanding principals_df\n",
    "\n",
    "The table contains 1028186 row entries and 6 columns.<br>\n",
    "\n",
    "Two columns are obseved with missing data;\n",
    "> * ```job```  : 82.71%\n",
    "> * ```characters``` : 61.74%\n",
    "\n",
    "No duplicated data observed."
   ]
  },
  {
   "cell_type": "markdown",
   "metadata": {},
   "source": [
    "#### ```persons```"
   ]
  },
  {
   "cell_type": "code",
   "execution_count": null,
   "metadata": {},
   "outputs": [],
   "source": [
    "# Using pandas to open the sql table.\n",
    "\n",
    "persons_df = load_SQL('*','persons')\n",
    "\n",
    "persons_df.head()"
   ]
  },
  {
   "cell_type": "code",
   "execution_count": null,
   "metadata": {},
   "outputs": [],
   "source": [
    "#getting info on the DataFrames.\n",
    "\n",
    "get_info(persons_df)"
   ]
  },
  {
   "cell_type": "code",
   "execution_count": null,
   "metadata": {},
   "outputs": [],
   "source": [
    "#missing values observed, checking for there percentage.\n",
    "\n",
    "missing_values(persons_df)"
   ]
  },
  {
   "cell_type": "code",
   "execution_count": null,
   "metadata": {},
   "outputs": [],
   "source": [
    "# Checking for Duplicates.\n",
    "get_duplicate(persons_df)"
   ]
  },
  {
   "cell_type": "markdown",
   "metadata": {},
   "source": [
    "#### Understanding persons_df\n",
    "\n",
    "The dataframe has 606648 row entries and 5 columns. <br>\n",
    "\n",
    "It contains missing values namely;\n",
    "> * ```death_year```  : 98.88 %\n",
    "> * ```birth_year```  : 86.36 %\n",
    "> * ```primary_profession```  : 8.46 %\n",
    "\n",
    "It has no Duplicates."
   ]
  },
  {
   "cell_type": "markdown",
   "metadata": {},
   "source": [
    "# DATA PREPARATION.\n",
    "\n",
    " ## DATA CLEANING"
   ]
  },
  {
   "cell_type": "markdown",
   "metadata": {},
   "source": [
    "In this part of the project I will be selecting the data i will use and clean them accordingly before Analysing them.\n",
    "\n",
    "\n",
    "## ```\"budget_df\"(\"tn.movie_budgets.csv.gz\")```"
   ]
  },
  {
   "cell_type": "markdown",
   "metadata": {},
   "source": [
    "The DataFrame had no missing values or duplicated rows.<br>\n",
    "\n",
    "The only issue was that some column data types were in string form,<br>\n",
    "which will make it hard to sort them and use them for statistical analysis.<br>\n",
    "\n",
    "The problem columns are; \n",
    "> * 'production_budget'\n",
    "> * 'domestic_gross'\n",
    "> * 'worldwide_gross'."
   ]
  },
  {
   "cell_type": "code",
   "execution_count": null,
   "metadata": {},
   "outputs": [],
   "source": [
    "# Start by defining a type casting function for any column of numerical data stored as a string.\n",
    "\n",
    "def int_conv(data,col_name):\n",
    "    #first we remove the $ sign for the typecasting to work.\n",
    "    data[col_name] = data[col_name].map(lambda col: re.sub('[^0-9]','', col))\n",
    "    \n",
    "    #then we convert/typecast.\n",
    "    data[col_name] = data[col_name].astype(int)\n",
    "    return data[col_name]\n",
    "\n",
    "# Define a function to deal with duplicates.\n",
    "def remove_dup(data):\n",
    "    data.drop_duplicates(keep = 'first', inplace = True)\n",
    "    return data\n",
    "\n",
    "# Define a function that gives a Summary of Statistics\n",
    "def Stat_summary(data):\n",
    "    return data.describe()"
   ]
  },
  {
   "cell_type": "code",
   "execution_count": null,
   "metadata": {},
   "outputs": [],
   "source": [
    "# Now cleaning the budget_df(\"tn.movie_budgets.csv.gz\")\n",
    "\n",
    "#Starting with 'production_budget' \n",
    "int_conv(budget_df,'production_budget')"
   ]
  },
  {
   "cell_type": "code",
   "execution_count": null,
   "metadata": {
    "scrolled": true
   },
   "outputs": [],
   "source": [
    "#Type casting 'domestic_gross'\n",
    "\n",
    "int_conv(budget_df,'domestic_gross')"
   ]
  },
  {
   "cell_type": "code",
   "execution_count": null,
   "metadata": {
    "scrolled": true
   },
   "outputs": [],
   "source": [
    "# Typecasting 'worldwide_gross'\n",
    "\n",
    "int_conv(budget_df,'worldwide_gross')"
   ]
  },
  {
   "cell_type": "code",
   "execution_count": null,
   "metadata": {},
   "outputs": [],
   "source": [
    "# Checking if the non-numerical symbols were removed.\n",
    "\n",
    "budget_df.head()"
   ]
  },
  {
   "cell_type": "code",
   "execution_count": null,
   "metadata": {
    "scrolled": true
   },
   "outputs": [],
   "source": [
    "# Type Casting from object to int64, Succesfull.\n",
    "get_info(budget_df)\n"
   ]
  },
  {
   "cell_type": "code",
   "execution_count": null,
   "metadata": {
    "scrolled": true
   },
   "outputs": [],
   "source": [
    "#convert date to a date time format to make it easier to make new columns based on year and column.\n",
    "budget_df['release_date'] = pd.to_datetime(budget_df['release_date'])\n",
    "\n",
    "#checking to comfirm the change was succesfull\n",
    "budget_df['release_date'].head()"
   ]
  },
  {
   "cell_type": "markdown",
   "metadata": {},
   "source": [
    "## ```tmdb.movies.csv.gz(tmdb_df)```\n",
    "\n",
    "  \n",
    "\n",
    "The tmdb_df Data Frame has the following issues;\n",
    "\n",
    "    Deal with Duplicates.\n",
    "\n",
    "    What are genre_ids, what do those numbers represent for now they are too ambiguous.    \n",
    "    but after researching from there website i now have their meanings.\n",
    "    \n",
    "    [{\"genres\":[{\"id\":28,\"name\":\"Action\"},{\"id\":12,\"name\":\"Adventure\"},{\"id\":16,\"name\":\"Animation\"},{\"id\":35,\"name\":\"Comedy\"},{\"id\":80,\"name\":\"Crime\"},{\"id\":99,\"name\":\"Documentary\"},{\"id\":18,\"name\":\"Drama\"},{\"id\":10751,\"name\":\"Family\"},{\"id\":14,\"name\":\"Fantasy\"},{\"id\":36,\"name\":\"History\"},{\"id\":27,\"name\":\"Horror\"},{\"id\":10402,\"name\":\"Music\"},{\"id\":9648,\"name\":\"Mystery\"},{\"id\":10749,\"name\":\"Romance\"},{\"id\":878,\"name\":\"Science Fiction\"},{\"id\":10770,\"name\":\"TV Movie\"},{\"id\":53,\"name\":\"Thriller\"},{\"id\":10752,\"name\":\"War\"},{\"id\":37,\"name\":\"Western\"}]}]\n"
   ]
  },
  {
   "cell_type": "code",
   "execution_count": null,
   "metadata": {
    "scrolled": true
   },
   "outputs": [],
   "source": [
    "# Removing the Duplicates\n",
    "\n",
    "remove_dup(tmdb_df)\n",
    "\n",
    "# Checking if the Duplicates were succesfully removed \n",
    "get_duplicate(tmdb_df)"
   ]
  },
  {
   "cell_type": "code",
   "execution_count": null,
   "metadata": {},
   "outputs": [],
   "source": [
    "#dropping rows with an empty genre_id ([]) as they dont serve any function without the genre_id.\n",
    "\n",
    "tmdb_df = tmdb_df[tmdb_df.genre_ids != '[]']"
   ]
  },
  {
   "cell_type": "markdown",
   "metadata": {},
   "source": [
    "## ```im.db.SQL```"
   ]
  },
  {
   "cell_type": "markdown",
   "metadata": {},
   "source": [
    "### movie_basics_df"
   ]
  },
  {
   "cell_type": "markdown",
   "metadata": {},
   "source": [
    "No duplacated rows detected.\n",
    "\n",
    "missing values observed\n",
    "\n",
    "        runtime_minutes\n",
    "        genres\n",
    "        original_title\n",
    "\n",
    "Movie_basics has 146144 row entries and 6 columns.\n",
    "\n",
    "The column names are not ambiguous."
   ]
  },
  {
   "cell_type": "code",
   "execution_count": null,
   "metadata": {
    "scrolled": true
   },
   "outputs": [],
   "source": [
    "#dealing with missing values by dropping all rows with missing data.\n",
    "q = \"\"\"\n",
    "SELECT *\n",
    "FROM movie_basics \n",
    "WHERE runtime_minutes IS NOT NULL and genres IS NOT NULL and original_title IS NOT NULL\n",
    "\"\"\"\n",
    "\n",
    "movie_basics = pd.read_sql(q,conn)\n",
    "movie_basics"
   ]
  },
  {
   "cell_type": "code",
   "execution_count": null,
   "metadata": {},
   "outputs": [],
   "source": [
    "r = \"\"\"\n",
    "SELECT AVG(runtime_minutes) AS avg_runtime, start_year\n",
    "FROM movie_basics\n",
    "WHERE runtime_minutes IS NOT NULL and genres IS NOT NULL and original_title IS NOT NULL\n",
    "GROUP BY start_year\n",
    "ORDER BY start_year ASC\n",
    "\"\"\"\n",
    "\n",
    "yearly_runtime_trends = pd.read_sql(r,conn)\n",
    "\n",
    "yearly_runtime_trends.set_index(['start_year'], inplace=True)\n",
    "yearly_runtime_trends.head()"
   ]
  },
  {
   "cell_type": "code",
   "execution_count": null,
   "metadata": {
    "scrolled": true
   },
   "outputs": [],
   "source": [
    "#CHECKING FOR MISSING VALUES\n",
    "\n",
    "get_info(movie_basics)"
   ]
  },
  {
   "cell_type": "code",
   "execution_count": null,
   "metadata": {
    "scrolled": false
   },
   "outputs": [],
   "source": [
    "#Checking for Outliers now.\n",
    "w = \"\"\"\n",
    "SELECT movie_id,COUNT(runtime_minutes),runtime_minutes\n",
    "\n",
    "FROM movie_basics\n",
    "\n",
    "WHERE runtime_minutes IS NOT NULL \n",
    "\n",
    "GROUP BY runtime_minutes\n",
    "ORDER BY runtime_minutes DESC\n",
    "\n",
    "\n",
    "\n",
    "\"\"\"\n",
    "runtime_movies = pd.read_sql(w,conn)\n",
    "runtime_movies.head(20)"
   ]
  },
  {
   "cell_type": "markdown",
   "metadata": {},
   "source": [
    "From the above array, we can see that the top 20 movies are over a thousand minutes...\n",
    "\n",
    "**WOW**\n",
    "\n",
    "The largest is 51420 minutes...That is about 35 days.\n",
    "\n",
    "Let us cut from 500 minutes."
   ]
  },
  {
   "cell_type": "code",
   "execution_count": null,
   "metadata": {},
   "outputs": [],
   "source": [
    "J = \"\"\"\n",
    "SELECT *\n",
    "FROM movie_basics\n",
    "WHERE movie_id = 'tt8273150'\n",
    "\"\"\"\n",
    "Outlier = pd.read_sql(J,conn)\n",
    "Outlier"
   ]
  },
  {
   "cell_type": "code",
   "execution_count": null,
   "metadata": {},
   "outputs": [],
   "source": [
    "w = \"\"\"\n",
    "SELECT runtime_minutes,movie_id\n",
    "\n",
    "FROM movie_basics\n",
    "\n",
    "WHERE runtime_minutes IS NOT NULL and genres IS NOT NULL and original_title IS NOT NULL and runtime_minutes < 500\n",
    "\n",
    "\n",
    "\n",
    "\"\"\"\n",
    "runtime_movies = pd.read_sql(w,conn)\n",
    "runtime_movies.tail() #AAAH perfect."
   ]
  },
  {
   "cell_type": "markdown",
   "metadata": {},
   "source": [
    "### Movie_ratings"
   ]
  },
  {
   "cell_type": "markdown",
   "metadata": {},
   "source": [
    "The table contains 73856 entries and 3 columns.\n",
    "It does not have any missing data or duplicates.\n",
    "\n",
    "It is ready for EDA"
   ]
  },
  {
   "cell_type": "code",
   "execution_count": null,
   "metadata": {
    "scrolled": false
   },
   "outputs": [],
   "source": [
    "# Joining movie basics with movie ratings to add more relevance to the dataframe.\n",
    "\n",
    "w = \"\"\"\n",
    "SELECT movie_id,genres,averagerating,numvotes,AVG(averagerating) AS avg_rates,SUM(numvotes) AS TTL_votes\n",
    "FROM movie_basics\n",
    "JOIN movie_ratings\n",
    "USING(movie_id)\n",
    "WHERE runtime_minutes IS NOT NULL and genres IS NOT NULL\n",
    "GROUP BY genres\n",
    "ORDER BY avg_rates\n",
    "\"\"\"\n",
    "joined_movie = pd.read_sql(w,conn)\n",
    "\n",
    "#to ensure genres is the index.\n",
    "joined_movie "
   ]
  },
  {
   "cell_type": "code",
   "execution_count": null,
   "metadata": {},
   "outputs": [],
   "source": [
    "#making a Dataframe to use for corvariance\n",
    "\n",
    "k = \"\"\"\n",
    "SELECT runtime_minutes,averagerating\n",
    "FROM movie_basics\n",
    "JOIN movie_ratings\n",
    "USING(movie_id)\n",
    "WHERE runtime_minutes IS NOT NULL and genres IS NOT NULL and runtime_minutes < 500\n",
    "\"\"\"\n",
    "runtime_corr = pd.read_sql(k,conn)\n",
    "\n",
    "runtime_corr.head()"
   ]
  },
  {
   "cell_type": "markdown",
   "metadata": {},
   "source": [
    "# DATA ANALYSIS  \n",
    "\n",
    "### budget_df\n",
    "\n",
    "\n"
   ]
  },
  {
   "cell_type": "code",
   "execution_count": null,
   "metadata": {},
   "outputs": [],
   "source": [
    "# Adding new column for release year.\n",
    "\n",
    "budget_df['release_year'] = pd.DatetimeIndex(budget_df['release_date']).year\n",
    "\n",
    "#Excellent it has worked.\n",
    "budget_df.head()"
   ]
  },
  {
   "cell_type": "code",
   "execution_count": null,
   "metadata": {
    "scrolled": false
   },
   "outputs": [],
   "source": [
    "#Addding new column for Release month\n",
    "budget_df['release_month'] = pd.DatetimeIndex(budget_df['release_date']).month\n",
    "\n",
    "#Excellent it has worked.\n",
    "budget_df.head()\n"
   ]
  },
  {
   "cell_type": "code",
   "execution_count": null,
   "metadata": {
    "scrolled": true
   },
   "outputs": [],
   "source": [
    "budget_df.head()"
   ]
  },
  {
   "cell_type": "code",
   "execution_count": null,
   "metadata": {},
   "outputs": [],
   "source": [
    "#making a new variable Budget_analyse to store an version of budget_df which has been grouped by year and then\n",
    "#summed.\n",
    "Budget_yearly = budget_df.groupby('release_year').sum()\n",
    "\n",
    "Budget_yearly"
   ]
  },
  {
   "cell_type": "code",
   "execution_count": null,
   "metadata": {},
   "outputs": [],
   "source": [
    "#making two new columns to get the profits\n",
    "\n",
    "Budget_yearly['domestic_profit'] = Budget_yearly['domestic_gross'] - Budget_yearly['production_budget']\n",
    "Budget_yearly['worlwide_profit'] = Budget_yearly['worldwide_gross'] - Budget_yearly['production_budget']\n",
    "Budget_yearly\n",
    "\n",
    "#dropping release_month,domestic_gross,worldwide_gross and id so that I can use the Budgete_analyse to plot \n",
    "#multiple line graphs in one graph\n",
    "#where the  columns will be noise.\n",
    "Budget_yearly.drop(['release_month','domestic_gross','worldwide_gross'],axis = 1, inplace= True)\n"
   ]
  },
  {
   "cell_type": "code",
   "execution_count": null,
   "metadata": {},
   "outputs": [],
   "source": [
    "#Making a new variable called Budget_analyse_1 to store the budget_df which has been grouped by ('release_month')\n",
    "#and then meaned.\n",
    "Budget_monthly = budget_df.groupby('release_month').mean()\n",
    "\n",
    "Budget_monthly.head()"
   ]
  },
  {
   "cell_type": "code",
   "execution_count": null,
   "metadata": {
    "scrolled": true
   },
   "outputs": [],
   "source": [
    "Budget_monthly['domestic_profit'] = Budget_monthly['domestic_gross'] - Budget_monthly['production_budget']\n",
    "Budget_monthly['worlwide_profit'] = Budget_monthly['worldwide_gross'] - Budget_monthly['production_budget']\n",
    "Budget_monthly\n",
    "\n",
    "#dropping the id and release year to remove noise\n",
    "Budget_monthly.drop(['release_year','domestic_gross','production_budget','worldwide_gross'], inplace = True, axis = 1)\n",
    "Budget_monthly"
   ]
  },
  {
   "cell_type": "code",
   "execution_count": null,
   "metadata": {},
   "outputs": [],
   "source": [
    "#plt to show the mean of cash flow depending on all the movies release months.\n",
    "\n",
    "plt.style.use('seaborn-notebook')\n",
    "plt.style.use('bmh')\n",
    "fig,ax =plt.subplots(figsize = (15,15)) \n",
    "\n",
    "#Ensures the y axis numbers are not displayed in there exponential form\n",
    "ax.get_yaxis().get_major_formatter().set_scientific(False)\n",
    "\n",
    "sns.lineplot(data = Budget_monthly)\n",
    "plt.title('Cash Flow On Diff Release Months',fontsize = 15, color = 'b')\n",
    "plt.ylabel('Cash Flow IN $ ',fontsize = 15)\n",
    "plt.xlabel('Months', fontsize = 15)\n",
    "plt.yticks(rotation = 60,fontsize = 15)\n",
    "plt.xticks(fontsize = 15)\n",
    "\n",
    "# Changing color ot text in legend for visibility\n",
    "leg = plt.legend(loc='upper left',fontsize = 15)\n",
    "for text in leg.get_texts():\n",
    "    text.set_color(\"black\")\n",
    "    \n",
    "#This adjusts cropping of the graph\n",
    "plt.subplots_adjust(top=0.8,left = 0.2) \n",
    "\n",
    "#saving the plt\n",
    "ax.figure.savefig('Cash Flow On Diff Release Months.png');\n"
   ]
  },
  {
   "cell_type": "code",
   "execution_count": null,
   "metadata": {},
   "outputs": [],
   "source": [
    "#plt to show what trend of worldwide_gross and domestic gross over the years.summed per year.\n",
    "\n",
    "\n",
    "plt.style.use('seaborn-notebook')\n",
    "plt.style.use('bmh')\n",
    "fig,ax =plt.subplots(figsize = (14,10)) \n",
    "ax.get_yaxis().get_major_formatter().set_scientific(False)\n",
    "sns.lineplot(data = Budget_yearly)\n",
    "plt.title('FINANCIAL TRENDS OVER THE YEARS',fontsize = 15,color = 'r')\n",
    "plt.ylabel('Cash Flow IN $ ',fontsize = 19,color = 'r')\n",
    "plt.xlabel('YEARS', fontsize = 15)\n",
    "plt.yticks(rotation = 60,fontsize = 19)\n",
    "plt.xticks(fontsize = 15)\n",
    "plt.legend(fontsize = 15)\n",
    "#This adjusts cropping of the graph\n",
    "plt.subplots_adjust(top=0.85,left = 0.2) \n",
    "\n",
    "# Changing color ot text in legend for visibility\n",
    "leg = plt.legend(loc='upper left',fontsize = 15)\n",
    "for text in leg.get_texts():\n",
    "    text.set_color(\"black\")\n",
    "\n",
    "               \n",
    "#saving the plt\n",
    "ax.figure.savefig('FINANCIAL TRENDS OVER THE YEARS.png');"
   ]
  },
  {
   "cell_type": "markdown",
   "metadata": {},
   "source": [
    "## DATA ANALYSIS OF tmdb.movies\n",
    "\n"
   ]
  },
  {
   "cell_type": "code",
   "execution_count": null,
   "metadata": {},
   "outputs": [],
   "source": [
    "#Making a new dataframe (analise_df) to hold the value_count of 'original_language'\n",
    "#looking at the bar graph for the top 15 frequency distribution of original languages.\n",
    "\n",
    "#nlargest limits the rows based on the largest\n",
    "\n",
    "#getting the frequency of original language occurance in the data.\n",
    "\n",
    "analise_df = tmdb_df['original_language'].value_counts().nlargest(15)\n"
   ]
  },
  {
   "cell_type": "code",
   "execution_count": null,
   "metadata": {},
   "outputs": [],
   "source": [
    "# Making a bargraph to visualise The frequency distribution of movies based on their Original languages.\n",
    "plt.style.use('seaborn-pastel')\n",
    "fig,ax = plt.subplots(figsize=(16,16))\n",
    "analise_df.plot(kind = 'barh')\n",
    "plt.xlabel('Count of Movies', fontsize = 15)\n",
    "plt.ylabel('Top 15 Languages', fontsize = 15)\n",
    "plt.title('Frequency Distribution of Original Language.', fontsize = 18, color = 'g')\n",
    "plt.yticks(fontsize = 15)\n",
    "#To make the incremental grids visible to add readability\n",
    "plt.xticks(range(0,20000,500),fontsize = 15, rotation = 60)\n",
    "\n",
    "# Changing color ot text in legend for visibility\n",
    "leg = plt.legend(loc='upper left',fontsize = 15)\n",
    "for text in leg.get_texts():\n",
    "    text.set_color(\"black\")\n",
    "    \n",
    "#This adjusts cropping of the graph\n",
    "plt.subplots_adjust(top=0.8);\n",
    "\n",
    "#save plt for presentation\n",
    "ax.figure.savefig('Frequency Distribution of Original Language.png')"
   ]
  },
  {
   "cell_type": "code",
   "execution_count": null,
   "metadata": {
    "scrolled": false
   },
   "outputs": [],
   "source": [
    "# Making a new variable ,analyse_df2 to hold a the imdb_df but grouped by genre ids followed by a value count\n",
    "#to get the frequency distribution of various genres.\n",
    "analyse_df2 = tmdb_df['genre_ids'].value_counts().nlargest(25)\n",
    "\n",
    "\n",
    "fig,ax = plt.subplots(figsize=(16,16))\n",
    "analyse_df2.plot(kind = 'barh')\n",
    "plt.xlabel('Movie Counts Based on Genre', fontsize = 20)\n",
    "plt.ylabel('Genre (tmdb id)', fontsize = 20)\n",
    "plt.title('Genre Frequency Distribution', fontsize = 20)\n",
    "plt.yticks(fontsize = 20)\n",
    "plt.xticks(fontsize = 20)\n",
    "\n",
    "#save plt for presentation\n",
    "ax.figure.savefig('Genre Frequency Distribution.png');"
   ]
  },
  {
   "cell_type": "code",
   "execution_count": null,
   "metadata": {},
   "outputs": [],
   "source": [
    "#Introducing another variable 'analyse_df3' to save the tmdb_df which has been groupedby\n",
    "#original_language and then sumed and sorted by  the sum of popularity.\n",
    "\n",
    "analyse_df3 = tmdb_df.groupby('original_language').sum().nlargest(15, 'popularity')\n"
   ]
  },
  {
   "cell_type": "code",
   "execution_count": null,
   "metadata": {},
   "outputs": [],
   "source": [
    "analyse_df3"
   ]
  },
  {
   "cell_type": "code",
   "execution_count": null,
   "metadata": {},
   "outputs": [],
   "source": [
    "#Making a bargraph for the languages based on the vote count they have recieved.\n",
    "\n",
    "fig,ax = plt.subplots(figsize=(20,16))\n",
    "sns.barplot(x = analyse_df3.index, y = analyse_df3['popularity'], palette='gist_earth')\n",
    "\n",
    "plt.xlabel('Original Language', fontsize = 20)\n",
    "plt.ylabel('Vote Count per Language', fontsize = 20)\n",
    "plt.xticks(fontsize = 20)\n",
    "plt.yticks(fontsize = 20)\n",
    "plt.title('Vote Count Didtribution per Language', fontsize = 25)\n",
    "\n",
    "#save plt for presentation\n",
    "ax.figure.savefig('Vote Count Didtribution per Language');"
   ]
  },
  {
   "cell_type": "code",
   "execution_count": null,
   "metadata": {},
   "outputs": [],
   "source": [
    "#Assigning the tmdb_df which has been grouped by genre_id and sumed and sorted by popularity\n",
    "#as analyse_df4\n",
    "analyse_df4 = tmdb_df.groupby('genre_ids').sum().nlargest(50, 'popularity')\n",
    "\n",
    "analyse_df4"
   ]
  },
  {
   "cell_type": "code",
   "execution_count": null,
   "metadata": {
    "scrolled": false
   },
   "outputs": [],
   "source": [
    "# A bar graph showing The popularity of the varios genre \n",
    "fig,ax = plt.subplots(figsize=(20,16))\n",
    "sns.barplot(y = analyse_df4.index, x = analyse_df4['popularity'], palette='Pastel2')\n",
    "\n",
    "plt.xlabel('Genre Ids', fontsize = 20)\n",
    "plt.ylabel('Popularity per Genre', fontsize = 20)\n",
    "plt.xticks(fontsize = 20, rotation = 65)\n",
    "plt.yticks(fontsize = 20)\n",
    "plt.title('Genre Popularity', fontsize = 20)\n",
    "\n",
    "ax.figure.savefig('Genre Popularity.png');"
   ]
  },
  {
   "cell_type": "markdown",
   "metadata": {},
   "source": [
    "## ## DATA ANALYSIS OF ```movie_basics```"
   ]
  },
  {
   "cell_type": "code",
   "execution_count": null,
   "metadata": {
    "scrolled": false
   },
   "outputs": [],
   "source": [
    "# grouping data based on genres\n",
    "\n",
    "movie_b_analysis = movie_basics.groupby('genres').count().nlargest(30, 'movie_id')\n",
    "\n",
    "movie_b_analysis.head()"
   ]
  },
  {
   "cell_type": "code",
   "execution_count": null,
   "metadata": {
    "scrolled": false
   },
   "outputs": [],
   "source": [
    "fig,ax = plt.subplots(figsize=(20,16))\n",
    "sns.barplot(y = movie_b_analysis.index, x = movie_b_analysis['movie_id'], palette='inferno_r')\n",
    "\n",
    "plt.xlabel('Genres', fontsize = 20)\n",
    "plt.ylabel('Genres Count', fontsize = 20)\n",
    "plt.xticks(fontsize = 20, rotation = 0)\n",
    "plt.yticks(fontsize = 20)\n",
    "plt.title('Genre Popularity from IMDB ', fontsize = 20)\n",
    "\n",
    "#This adjusts cropping of the graph\n",
    "plt.subplots_adjust(top=0.8, left = .4);\n",
    "ax.figure.savefig('Genre Counts from IMDB.png');"
   ]
  },
  {
   "cell_type": "code",
   "execution_count": null,
   "metadata": {},
   "outputs": [],
   "source": [
    "#getting the top 30 genres based on there sum of total votes.\n",
    "\n",
    "joined_for_sum_of_votes = joined_movie.nlargest(30, 'avg_rates')\n",
    "joined_for_sum_of_votes.head()\n"
   ]
  },
  {
   "cell_type": "code",
   "execution_count": null,
   "metadata": {},
   "outputs": [],
   "source": [
    "fig,ax = plt.subplots(figsize=(20,16))\n",
    "sns.barplot(x = joined_for_sum_of_votes['avg_rates'], y = joined_for_sum_of_votes['genres'], palette='seismic')\n",
    "\n",
    "plt.xlabel('Genres', fontsize = 20)\n",
    "plt.ylabel('AVG ratings', fontsize = 20)\n",
    "plt.xticks(fontsize = 20)\n",
    "plt.yticks(fontsize = 15,rotation = 0)\n",
    "plt.title('Genres Popularity from  AVG ratings from IMDB ', fontsize = 20)\n",
    "\n",
    "#Ensures the y axis numbers are not displayed in there exponential form\n",
    "ax.get_xaxis().get_major_formatter().set_scientific(False)\n",
    "\n",
    "#This adjusts cropping of the graph\n",
    "plt.subplots_adjust(top=0.8, left = .4);\n",
    "ax.figure.savefig('Genre Popularity from AVG ratings (IMDB).png');"
   ]
  },
  {
   "cell_type": "code",
   "execution_count": null,
   "metadata": {
    "scrolled": false
   },
   "outputs": [],
   "source": [
    "\n",
    "plt.style.use('Solarize_Light2')\n",
    "plt.figure(figsize = (15,15))\n",
    "sns.histplot(runtime_movies['runtime_minutes'],bins=20,kde = True)\n",
    "plt.xticks(range(0,500,10),fontsize = 12, rotation = 60)\n",
    "plt.yticks(fontsize = 15)\n",
    "plt.xlabel('Duration of Movies in Minutes',fontsize = 20)\n",
    "plt.ylabel('Frequency',fontsize = 20)\n",
    "plt.title('Distribution Plot',fontsize = 20,color = 'g')\n",
    "plt.show()\n",
    "\n",
    "ax.figure.savefig('Distribution Plot Of Movie Lenght In Minutes');"
   ]
  },
  {
   "cell_type": "code",
   "execution_count": null,
   "metadata": {
    "scrolled": true
   },
   "outputs": [],
   "source": [
    "#Correlation between runtime and ratings\n",
    "Correlation = runtime_corr.corr()\n",
    "#fig, ax = plt.subplots(figsize = (15,15))\n",
    "sns.heatmap(Correlation);\n",
    "Correlation_ = Correlation_ = runtime_corr['runtime_minutes'].corr(runtime_corr['averagerating'])\n",
    "print(Correlation_)\n",
    "ax.figure.savefig('Correlation between Average rating and Runtime.')\n",
    "plt.title('Correlation Between Avereage rating and Runtime_minutes');"
   ]
  },
  {
   "cell_type": "code",
   "execution_count": null,
   "metadata": {},
   "outputs": [],
   "source": [
    "#Correlation between runtime and ratings\n",
    "Correlation = runtime_corr.corr()\n",
    "#fig, ax = plt.subplots(figsize = (15,15))\n",
    "sns.scatterplot(data = runtime_corr);\n",
    "Correlation_ = Correlation_ = runtime_corr['runtime_minutes'].corr(runtime_corr['averagerating'])\n",
    "print(Correlation_)\n",
    "ax.figure.savefig('Correlation between Average rating and Runtime.')\n",
    "plt.title('scatter Between Avereage rating and Runtime_minutes');"
   ]
  },
  {
   "cell_type": "code",
   "execution_count": null,
   "metadata": {},
   "outputs": [],
   "source": [
    "#using yearly_runtime_trends to plot a line plot of runtime fluctuations over the years.\n",
    "\n",
    "plt.style.use('seaborn-notebook')\n",
    "plt.style.use('bmh')\n",
    "fig,ax =plt.subplots(figsize = (14,10)) \n",
    "#ax.get_yaxis().get_major_formatter().set_scientific(False)\n",
    "sns.lineplot(data = yearly_runtime_trends)\n",
    "plt.title('RUNTIME TRENDS OVER THE YEARS',fontsize = 15,color = 'r')\n",
    "plt.ylabel('MINUTES ',fontsize = 19,color = 'r')\n",
    "plt.xlabel('YEARS', fontsize = 15)\n",
    "plt.yticks(rotation = 60,fontsize = 19)\n",
    "plt.xticks(fontsize = 15)\n",
    "plt.legend(fontsize = 15)\n",
    "#This adjusts cropping of the graph\n",
    "plt.subplots_adjust(top=0.85,left = 0.2) \n",
    "\n",
    "# Changing color ot text in legend for visibility\n",
    "leg = plt.legend(loc='upper left',fontsize = 15)\n",
    "for text in leg.get_texts():\n",
    "    text.set_color(\"black\")\n",
    "\n",
    "               \n",
    "#saving the plt\n",
    "ax.figure.savefig('RUNTIME TRENDS OVER THE YEARS');"
   ]
  }
 ],
 "metadata": {
  "kernelspec": {
   "display_name": "Python 3 (ipykernel)",
   "language": "python",
   "name": "python3"
  },
  "language_info": {
   "codemirror_mode": {
    "name": "ipython",
    "version": 3
   },
   "file_extension": ".py",
   "mimetype": "text/x-python",
   "name": "python",
   "nbconvert_exporter": "python",
   "pygments_lexer": "ipython3",
   "version": "3.9.12"
  }
 },
 "nbformat": 4,
 "nbformat_minor": 2
}
